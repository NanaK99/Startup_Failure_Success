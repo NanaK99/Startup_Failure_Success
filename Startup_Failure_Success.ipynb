{
  "nbformat": 4,
  "nbformat_minor": 0,
  "metadata": {
    "colab": {
      "name": "Startup_Failure_Success",
      "provenance": []
    },
    "kernelspec": {
      "name": "python3",
      "display_name": "Python 3"
    }
  },
  "cells": [
    {
      "cell_type": "markdown",
      "metadata": {
        "id": "865CzdaP8DMz",
        "colab_type": "text"
      },
      "source": [
        "# **Importing packages**"
      ]
    },
    {
      "cell_type": "code",
      "metadata": {
        "id": "9SezkfhU46SZ",
        "colab_type": "code",
        "outputId": "6b5cc045-d7c6-40da-a2c3-227379b4e7a9",
        "colab": {
          "base_uri": "https://localhost:8080/",
          "height": 277
        }
      },
      "source": [
        "def warn(*args, **kwargs):\n",
        "    pass\n",
        "import warnings\n",
        "warnings.warn = warn\n",
        "!pip install scikit-plot\n",
        "import scikitplot as skplt\n",
        "\n",
        "import random\n",
        "import numpy as np\n",
        "import pandas as pd\n",
        "import matplotlib.pyplot as plt\n",
        "import seaborn as sns\n",
        "\n",
        "from sklearn.linear_model import LogisticRegression\n",
        "from statsmodels.discrete.discrete_model import Logit\n",
        "import statsmodels.api as sm\n",
        "from sklearn.model_selection import train_test_split, GridSearchCV,cross_val_score, StratifiedKFold, LeaveOneOut\n",
        "from sklearn.metrics import accuracy_score,recall_score,confusion_matrix,classification_report,roc_auc_score,roc_curve, precision_score, f1_score\n",
        "import sklearn as sk\n",
        "from sklearn.naive_bayes import BernoulliNB\n",
        "from sklearn import svm\n",
        "from sklearn.svm import SVC\n",
        "from sklearn.neighbors import KNeighborsClassifier\n",
        "from xgboost import XGBClassifier\n",
        "from sklearn.ensemble import RandomForestClassifier\n",
        "from sklearn.tree import DecisionTreeClassifier\n",
        "from sklearn.externals.six import StringIO\n",
        "from IPython.display import Image\n",
        "from sklearn.tree import export_graphviz\n",
        "import pydotplus\n",
        "\n",
        "\n",
        "from sklearn.preprocessing import StandardScaler\n",
        "from sklearn.preprocessing import RobustScaler\n",
        "\n",
        "from decimal import Decimal\n",
        "\n",
        "from google.colab import files\n",
        "\n",
        "from sklearn.impute import KNNImputer\n",
        "from sklearn.experimental import enable_iterative_imputer  \n",
        "from sklearn.impute import IterativeImputer\n",
        "from sklearn.ensemble import ExtraTreesRegressor\n",
        "from sklearn.preprocessing import OrdinalEncoder\n",
        "from fancyimpute import KNN\n",
        "from sklearn.impute import SimpleImputer"
      ],
      "execution_count": 0,
      "outputs": [
        {
          "output_type": "stream",
          "text": [
            "Collecting scikit-plot\n",
            "  Downloading https://files.pythonhosted.org/packages/7c/47/32520e259340c140a4ad27c1b97050dd3254fdc517b1d59974d47037510e/scikit_plot-0.3.7-py3-none-any.whl\n",
            "Requirement already satisfied: scipy>=0.9 in /usr/local/lib/python3.6/dist-packages (from scikit-plot) (1.4.1)\n",
            "Requirement already satisfied: joblib>=0.10 in /usr/local/lib/python3.6/dist-packages (from scikit-plot) (0.15.0)\n",
            "Requirement already satisfied: scikit-learn>=0.18 in /usr/local/lib/python3.6/dist-packages (from scikit-plot) (0.22.2.post1)\n",
            "Requirement already satisfied: matplotlib>=1.4.0 in /usr/local/lib/python3.6/dist-packages (from scikit-plot) (3.2.1)\n",
            "Requirement already satisfied: numpy>=1.13.3 in /usr/local/lib/python3.6/dist-packages (from scipy>=0.9->scikit-plot) (1.18.4)\n",
            "Requirement already satisfied: python-dateutil>=2.1 in /usr/local/lib/python3.6/dist-packages (from matplotlib>=1.4.0->scikit-plot) (2.8.1)\n",
            "Requirement already satisfied: kiwisolver>=1.0.1 in /usr/local/lib/python3.6/dist-packages (from matplotlib>=1.4.0->scikit-plot) (1.2.0)\n",
            "Requirement already satisfied: cycler>=0.10 in /usr/local/lib/python3.6/dist-packages (from matplotlib>=1.4.0->scikit-plot) (0.10.0)\n",
            "Requirement already satisfied: pyparsing!=2.0.4,!=2.1.2,!=2.1.6,>=2.0.1 in /usr/local/lib/python3.6/dist-packages (from matplotlib>=1.4.0->scikit-plot) (2.4.7)\n",
            "Requirement already satisfied: six>=1.5 in /usr/local/lib/python3.6/dist-packages (from python-dateutil>=2.1->matplotlib>=1.4.0->scikit-plot) (1.12.0)\n",
            "Installing collected packages: scikit-plot\n",
            "Successfully installed scikit-plot-0.3.7\n"
          ],
          "name": "stdout"
        },
        {
          "output_type": "stream",
          "text": [
            "Using TensorFlow backend.\n"
          ],
          "name": "stderr"
        }
      ]
    },
    {
      "cell_type": "markdown",
      "metadata": {
        "id": "1U8hvFfT96Mz",
        "colab_type": "text"
      },
      "source": [
        "# **Data: Importing, Description & Preprocessing**"
      ]
    },
    {
      "cell_type": "code",
      "metadata": {
        "id": "gkSTuL9E9rsM",
        "colab_type": "code",
        "colab": {}
      },
      "source": [
        "url = \"https://raw.githubusercontent.com/Metricam/Internship_tasks/master/Startup_Success/data.csv\"\n",
        "missing_values = [\"n/a\", \"na\", \"--\", \"No Info\", \"unknown amount\"]\n",
        "data = pd.read_csv(url, encoding='latin1', na_values=missing_values)"
      ],
      "execution_count": 0,
      "outputs": []
    },
    {
      "cell_type": "code",
      "metadata": {
        "id": "ZpOB6fUFSVY3",
        "colab_type": "code",
        "outputId": "276b06ad-a682-4dfc-c607-7161d72822b7",
        "colab": {
          "base_uri": "https://localhost:8080/",
          "height": 34
        }
      },
      "source": [
        "data.shape"
      ],
      "execution_count": 0,
      "outputs": [
        {
          "output_type": "execute_result",
          "data": {
            "text/plain": [
              "(472, 116)"
            ]
          },
          "metadata": {
            "tags": []
          },
          "execution_count": 4
        }
      ]
    },
    {
      "cell_type": "code",
      "metadata": {
        "id": "b88KPB-C7mKn",
        "colab_type": "code",
        "outputId": "d544b82f-e911-4433-fef6-9ee974117983",
        "colab": {
          "base_uri": "https://localhost:8080/",
          "height": 54
        }
      },
      "source": [
        "col_names=print(data.columns.tolist())"
      ],
      "execution_count": 0,
      "outputs": [
        {
          "output_type": "stream",
          "text": [
            "['Company_Name', 'Dependent-Company Status', 'year of founding', 'Age of company in years', 'Internet Activity Score', 'Short Description of company profile', 'Industry of company', 'Focus functions of company', 'Investors', 'Employee Count', 'Employees count MoM change', 'Has the team size grown', 'Est. Founding Date', 'Last Funding Date', 'Last Funding Amount', 'Country of company', 'Continent of company', 'Number of Investors in Seed', 'Number of Investors in Angel and or VC', 'Number of Co-founders', 'Number of of advisors', 'Team size Senior leadership', 'Team size all employees', 'Presence of a top angel or venture fund in previous round of investment', 'Number of of repeat investors', 'Number of  Sales Support material', 'Worked in top companies', 'Average size of companies worked for in the past', 'Have been part of startups in the past?', 'Have been part of successful startups in the past?', 'Was he or she partner in Big 5 consulting?', 'Consulting experience?', 'Product or service company?', 'Catering to product/service across verticals', 'Focus on private or public data?', 'Focus on consumer data?', 'Focus on structured or unstructured data', 'Subscription based business', 'Cloud or platform based serive/product?', 'Local or global player', 'Linear or Non-linear business model', 'Capital intensive business e.g. e-commerce, Engineering products and operations can also cause a business to be capital intensive', 'Number of  of Partners of company', 'Crowdsourcing based business', 'Crowdfunding based business', 'Machine Learning based business', 'Predictive Analytics business', 'Speech analytics business', 'Prescriptive analytics business', 'Big Data Business', 'Cross-Channel Analytics/ marketing channels', 'Owns data or not? (monetization of data) e.g. Factual', 'Is the company an aggregator/market place? e.g. Bluekai', 'Online or offline venture - physical location based business or online venture?', 'B2C or B2B venture?', \"Top forums like 'Tech crunch' or 'Venture beat' talking about the company/model - How much is it being talked about?\", 'Average Years of experience for founder and co founder', 'Exposure across the globe', 'Breadth of experience across verticals', 'Highest education', 'Years of education', 'Specialization of highest education', 'Relevance of education to venture', 'Relevance of experience to venture', 'Degree from a Tier 1 or Tier 2 university?', 'Renowned in professional circle', 'Experience in selling and building products', 'Experience in Fortune 100 organizations', 'Experience in Fortune 500 organizations', 'Experience in Fortune 1000 organizations', 'Top management similarity', 'Number of Recognitions for Founders and Co-founders', 'Number of  of Research publications', 'Skills score', 'Team Composition score', 'Dificulty of Obtaining Work force', 'Pricing Strategy', 'Hyper localisation', 'Time to market service or product', 'Employee benefits and salary structures', 'Long term relationship with other founders', 'Proprietary or patent position (competitive position)', 'Barriers of entry for the competitors', 'Company awards', 'Controversial history of founder or co founder', 'Legal risk and intellectual property', 'Client Reputation', 'google page rank of company website', 'Technical proficiencies to analyse and interpret unstructured data', 'Solutions offered', 'Invested through global incubation competitions?', 'Industry trend in investing', 'Disruptiveness of technology', 'Number of Direct competitors', 'Employees per year of company existence', 'Last round of funding received (in milionUSD)', 'Survival through recession, based on existence of the company through recession times', 'Time to 1st investment (in months)', 'Avg time to investment - average across all rounds, measured from previous investment', 'Gartner hype cycle stage', 'Time to maturity of technology (in years)', 'Percent_skill_Entrepreneurship', 'Percent_skill_Operations', 'Percent_skill_Engineering', 'Percent_skill_Marketing', 'Percent_skill_Leadership', 'Percent_skill_Data Science', 'Percent_skill_Business Strategy', 'Percent_skill_Product Management', 'Percent_skill_Sales', 'Percent_skill_Domain', 'Percent_skill_Law', 'Percent_skill_Consulting', 'Percent_skill_Finance', 'Percent_skill_Investment', 'Renown score']\n"
          ],
          "name": "stdout"
        }
      ]
    },
    {
      "cell_type": "code",
      "metadata": {
        "id": "_spfEU2I7ePe",
        "colab_type": "code",
        "colab": {}
      },
      "source": [
        "data = data.rename({'Company_Name':'Name', 'Dependent-Company Status':'Status','year of founding':'foundation_year', 'Age of company in years':'age', 'Internet Activity Score':'internet_activity_score',  'Short Description of company profile':'description', \n",
        "                    'Industry of company':'industry', 'Focus functions of company':'functions', 'Investors':'investors','Employee Count':'employee_count', 'Employees count MoM change':'emp_count_mom', 'Has the team size grown':'change_team_size', 'Est. Founding Date':'funding_date', \n",
        "             'Last Funding Date': 'last_funding_date', 'Last Funding Amount':'funding_amount', 'Country of company': 'country', 'Continent of company': 'continent', 'Number of Investors in Seed':'investor_numbers_seed',  'Number of Investors in Angel and or VC':'investor_numbers_angel_vc', 'Number of Co-founders':'cofounder_numbers', 'Number of of advisors':'advisor_numbers', 'Team size Senior leadership':'team_size_senior', 'Team size all employees':'team_size_employees',\n",
        "             'Presence of a top angel or venture fund in previous round of investment':'topangel_pres_prev_round', 'Number of of repeat investors':'repeat_investor_numbers', 'Number of  Sales Support material': 'sales_support_material_numbers', 'Worked in top companies': 'worked_top_company', 'Average size of companies worked for in the past': 'company_size_worked_past', 'Have been part of startups in the past?':'part_of_startup', 'Have been part of successful startups in the past?': 'part_of_successful_startup', 'Was he or she partner in Big 5 consulting?':'partner_big5_consulting', 'Consulting experience?':'consulting_exp', 'Product or service company?':'prod_or_serv', \n",
        "             'Catering to product/service across verticals':'catering_verticals', 'Focus on private or public data?':'private_or_public', 'Focus on consumer data?':'consumer_data', 'Focus on structured or unstructured data':'structured_or_not', 'Subscription based business':'subscription_based', 'Cloud or platform based serive/product?':'cloud_or_platform', 'Local or global player':'local_or_global', 'Linear or Non-linear business model':'linear_or_not', 'Capital intensive business e.g. e-commerce, Engineering products and operations can also cause a business to be capital intensive':'capital_intensive_or_not', 'Number of  of Partners of company':'partner_numbers', 'Crowdsourcing based business':'crowdsourcing_based', 'Crowdfunding based business':'crowdfunding_based', \n",
        "             'Machine Learning based business': 'ml_based', 'Predictive Analytics business':'pred_analytics','Speech analytics business':'speech_analytics','Prescriptive analytics business':'prescriptive_analytics','Big Data Business':'big_data', 'Cross-Channel Analytics/ marketing channels':'cross_channel_analytics', 'Owns data or not? (monetization of data) e.g. Factual':'owns_data','Is the company an aggregator/market place? e.g. Bluekai':'is_aggregator', 'Online or offline venture - physical location based business or online venture?':'online_or_offline', 'B2C or B2B venture?':'b2c_or_b2b', \"Top forums like 'Tech crunch' or 'Venture beat' talking about the company/model - How much is it being talked about?\":'forums_talks', 'Average Years of experience for founder and co founder':'years_of_exp_founder', 'Exposure across the globe':'exposure', 'Breadth of experience across verticals':'breadth_of_exp', 'Highest education':'education_lvl','Years of education':'education_years',\n",
        "             'Specialization of highest education':'educ_spec', 'Relevance of education to venture':'educ_relevance', 'Relevance of experience to venture':'experience_relevance','Degree from a Tier 1 or Tier 2 university?':'degree_tier_uni', 'Renowned in professional circle':'prof_renowned', 'Experience in selling and building products':'selling_experience', 'Experience in Fortune 100 organizations':'fortune100_experience', 'Experience in Fortune 500 organizations':'fortune500_experience', 'Experience in Fortune 1000 organizations':'fortune1000_experience', 'Top management similarity':'management_sim', 'Number of Recognitions for Founders and Co-founders':'recognition_numbers', 'Number of  of Research publications':'research_pub_numbers',  \n",
        "             'Skills score':'skill_score', 'Team Composition score':'team_composition_score', 'Dificulty of Obtaining Work force':'diff_obtaining_workforce', 'Pricing Strategy':'pricing_strategy', 'Hyper localisation':'hyper_local', 'Time to market service or product':'time_to_market', 'Employee benefits and salary structures':'emp_salary_structure', 'Long term relationship with other founders':'relationship_other_founders', 'Proprietary or patent position (competitive position)':'patent_position', 'Barriers of entry for the competitors':'competitor_entry_barriers', 'Company awards':'awards', 'Controversial history of founder or co founder':'founder_controversial_history', \n",
        "             'Legal risk and intellectual property':'IP', 'Client Reputation':'client_reputation', 'google page rank of company website':'page_rank', 'Technical proficiencies to analyse and interpret unstructured data':'prof_analyse_unstruc_data', 'Solutions offered':'solutions_offered', 'Invested through global incubation competitions?':'invested_through_incub_comp', 'Industry trend in investing':'industry_trend_in_investing','Disruptiveness of technology':'tech_disrupt','Number of Direct competitors':'direct_comp_numbers','Employees per year of company existence':'emp_numbers_per_year','Last round of funding received (in milionUSD)':'last_funding_usd','Survival through recession, based on existence of the company through recession times':'recession_survival','Time to 1st investment (in months)':'1st_investment_months',\n",
        "             'Avg time to investment - average across all rounds, measured from previous investment':'avg_investment_time','Gartner hype cycle stage':'gartner_hype_stage','Time to maturity of technology (in years)':'tech_maturity_years','Percent_skill_Entrepreneurship':'entrep_skill','Percent_skill_Operations':'operations_skill', 'Percent_skill_Engineering':'engineering_skill', 'Percent_skill_Marketing':'marketing_skill','Percent_skill_Leadership':'leadership_skill', 'Percent_skill_Data Science':'ds_skill','Percent_skill_Business Strategy':'bus_strategy_skill','Percent_skill_Product Management':'prod_management_skill','Percent_skill_Sales':'sales_skill', 'Percent_skill_Domain':'domain_skill', 'Percent_skill_Law':'law_skill',\n",
        "             'Percent_skill_Consulting':'consulting_skill', 'Percent_skill_Finance':'finance_skill', 'Percent_skill_Investment':'investment_skill','Renown score':'renown_score'},axis=1)  "
      ],
      "execution_count": 0,
      "outputs": []
    },
    {
      "cell_type": "code",
      "metadata": {
        "id": "UqcpR_EQRXa7",
        "colab_type": "code",
        "colab": {}
      },
      "source": [
        "data = data.drop(['Name', 'description', 'industry','investors','country','educ_spec', 'foundation_year','funding_date','last_funding_date','emp_count_mom'], axis=1)"
      ],
      "execution_count": 0,
      "outputs": []
    },
    {
      "cell_type": "code",
      "metadata": {
        "id": "OMh3uEyGJ_g_",
        "colab_type": "code",
        "colab": {}
      },
      "source": [
        "data['functions'] = data['functions'].str.lower()\n",
        "data['local_or_global'] = data['local_or_global'].str.lower()\n",
        "data['cloud_or_platform'] = data['cloud_or_platform'].str.lower()\n",
        "data['sales_support_material_numbers'] = data['sales_support_material_numbers'].str.lower()\n",
        "data['change_team_size'] = data['change_team_size'].str.lower()\n",
        "data['structured_or_not'].replace({'no':'Unstructured'},inplace=True)\n",
        "data['local_or_global'].replace({'local  ':'local'},inplace=True)          "
      ],
      "execution_count": 0,
      "outputs": []
    },
    {
      "cell_type": "code",
      "metadata": {
        "id": "JKPLrUhSVq5f",
        "colab_type": "code",
        "colab": {}
      },
      "source": [
        "# Here I am making the \"functions\" variable into categories of four\n",
        "\n",
        "sse = ['service', 'social network', 'entertainment','networking','consumer web', 'search','writing blog','media','publishing','elearning','video streaming','server design',\n",
        "                                                              'mail reports','e-learning','customer servce','social news','community betterment','music','social','customer service','news','location based service','online music','n','many','\\\\']\n",
        "\n",
        "it_data = ['technology','software service','app revenue','data driven applications','data integration','conssumer web','cloud computing','computing, training','computing','phone intelligence','search engine','mobile app development','search enginenoptimization','mobile app','game','web','curated web','software','security',\n",
        "          'data visualization','music intelligece','games','it & sales','iphone apps','data collection','development tool','app','malware protection','personal apps','bug fix','network optimization','privacy' ,'software' ,'dashboards','software ','energy saving','wireless','application','data collection','tool','data collection ']\n",
        "\n",
        "omfa = ['operations','analytics','operation','analtics','customer retention, customer feedback','customer analytics','crm','inventory management','reporting','operations, sales, marketing','data management','social media analytics','database management','analytic','research',\n",
        "      'strategy','information management','customer engagement','optimization, crm, pricing','strategy, operations, finacial planning','management','travel planning','social tv analytics','intellectual property analysis and visualisation','social media management','big data analytics','web analytics','crm, marketing, human resources',\n",
        "      'solution providing','analytics crowdsourcing','campaign management','retail','revenue maximization','recommendation','payment','enterprise','localized behaviour','metrics','pricing','risk','finance','global','targeting optimize','billing','recommendation ','strategy']\n",
        "\n",
        "ms=['marketing','sales','marketing, sales','marketing & sales','sale','marketing \\nsales','marketing, strategy','marketing,sales','marketing, customer targeting','sales, marketing','sales,marketing','social media marketing','marketing, technology, finance & accounting, customer service','marketing,sales,risk,operations','merchandising, marketing',\n",
        "    'marketiing','mrkting','social branding','marketing, web analytics','sales, marketing and customer service','production,sales','targeted marketing','targeting','social media','advertising','social media optimization','sales & marketing','marketing, procurement, human resources','social advertising','operations, marketing','socialmedia campaign','development, marketing, and administration','data visualization, content marketing, presentations','ecommerce','social commerce','consumer behaviour']\n",
        "\n",
        "def convert_sse(x):\n",
        "  for name in x:\n",
        "    data['functions'].replace({name:'social_service_entertainment'},inplace=True)\n",
        "\n",
        "def convert_it_data(x):\n",
        "  for name in x:\n",
        "    data['functions'].replace({name:'it_data'},inplace=True)\n",
        "\n",
        "def convert_omfa(x):\n",
        "  for name in x:\n",
        "    data['functions'].replace({name:'operations_management_finance_analytics'},inplace=True)\n",
        "\n",
        "def convert_ms(x):\n",
        "  for name in x:\n",
        "    data['functions'].replace({name:'marketing_sales'},inplace=True)    \n",
        "\n",
        "convert_sse(sse)  \n",
        "convert_it_data(it_data)\n",
        "convert_omfa(omfa)\n",
        "convert_ms(ms)"
      ],
      "execution_count": 0,
      "outputs": []
    },
    {
      "cell_type": "code",
      "metadata": {
        "id": "jQjo2KBkWqX0",
        "colab_type": "code",
        "outputId": "6bc108fb-5162-45be-de5d-0e36bf4e4f63",
        "colab": {
          "base_uri": "https://localhost:8080/",
          "height": 104
        }
      },
      "source": [
        "data['functions'].value_counts()"
      ],
      "execution_count": 0,
      "outputs": [
        {
          "output_type": "execute_result",
          "data": {
            "text/plain": [
              "operations_management_finance_analytics    178\n",
              "marketing_sales                            140\n",
              "it_data                                     81\n",
              "social_service_entertainment                43\n",
              "Name: functions, dtype: int64"
            ]
          },
          "metadata": {
            "tags": []
          },
          "execution_count": 10
        }
      ]
    },
    {
      "cell_type": "code",
      "metadata": {
        "id": "C8g9vdjFXJk2",
        "colab_type": "code",
        "outputId": "39415f5d-9b16-43ce-fe6b-9b8ee0223b0d",
        "colab": {
          "base_uri": "https://localhost:8080/",
          "height": 69
        }
      },
      "source": [
        "print(\"Duplicates:\", data.duplicated().sum())\n",
        "print(\"Missing values:\", data.isna().sum().sum())\n",
        "print(\"Single valued columns:\", data.columns[data.nunique()==1])"
      ],
      "execution_count": 0,
      "outputs": [
        {
          "output_type": "stream",
          "text": [
            "Duplicates: 2\n",
            "Missing values: 7019\n",
            "Single valued columns: Index([], dtype='object')\n"
          ],
          "name": "stdout"
        }
      ]
    },
    {
      "cell_type": "code",
      "metadata": {
        "id": "TieBBUvja_Nz",
        "colab_type": "code",
        "colab": {}
      },
      "source": [
        "# As I saw there are lot of missing values, I decided to look more closely in which columns the missing data is.\n",
        "def miss_val(data):\n",
        "    x = ['column_name','missing_data','data_type']\n",
        "    missing_data = pd.DataFrame(columns=x)\n",
        "    columns = data.columns\n",
        "    for col in columns:\n",
        "        icolumn_name = col\n",
        "        imissing_data = data[col].isnull().sum()\n",
        "        idata_type = (data[col]).dtype\n",
        "        if (imissing_data == 0):\n",
        "          continue\n",
        "        missing_data.loc[len(missing_data)] = [icolumn_name, imissing_data, idata_type]\n",
        "\n",
        "    print(missing_data)"
      ],
      "execution_count": 0,
      "outputs": []
    },
    {
      "cell_type": "code",
      "metadata": {
        "id": "FiGkj2BFXyoZ",
        "colab_type": "code",
        "outputId": "f32b6290-3b12-4905-91ab-17383e54e572",
        "colab": {
          "base_uri": "https://localhost:8080/",
          "height": 1000
        }
      },
      "source": [
        "pd.set_option('display.max_rows', data.shape[0]+1)\n",
        "mv = miss_val(data)\n",
        "print(mv)"
      ],
      "execution_count": 0,
      "outputs": [
        {
          "output_type": "stream",
          "text": [
            "                        column_name missing_data data_type\n",
            "0                               age           59   float64\n",
            "1           internet_activity_score           65   float64\n",
            "2                         functions           30    object\n",
            "3                    employee_count          166   float64\n",
            "4                  change_team_size           51    object\n",
            "5                    funding_amount          160   float64\n",
            "6                         continent           71    object\n",
            "7             investor_numbers_seed           49   float64\n",
            "8         investor_numbers_angel_vc           49   float64\n",
            "9               team_size_employees           68   float64\n",
            "10         topangel_pres_prev_round           97    object\n",
            "11          repeat_investor_numbers           40   float64\n",
            "12   sales_support_material_numbers           48    object\n",
            "13               worked_top_company           19    object\n",
            "14         company_size_worked_past           31    object\n",
            "15                  part_of_startup           20    object\n",
            "16       part_of_successful_startup           20    object\n",
            "17          partner_big5_consulting           20    object\n",
            "18                   consulting_exp           22    object\n",
            "19                     prod_or_serv           10    object\n",
            "20               catering_verticals           11    object\n",
            "21                private_or_public            9    object\n",
            "22                    consumer_data            9    object\n",
            "23                structured_or_not            9    object\n",
            "24               subscription_based           13    object\n",
            "25                cloud_or_platform           12    object\n",
            "26                  local_or_global           24    object\n",
            "27                    linear_or_not           18    object\n",
            "28         capital_intensive_or_not           26    object\n",
            "29                  partner_numbers          101    object\n",
            "30              crowdsourcing_based            5    object\n",
            "31               crowdfunding_based            5    object\n",
            "32                         ml_based            6    object\n",
            "33                   pred_analytics            5    object\n",
            "34                 speech_analytics            5    object\n",
            "35           prescriptive_analytics           35    object\n",
            "36                         big_data            5    object\n",
            "37          cross_channel_analytics            5    object\n",
            "38                        owns_data            9    object\n",
            "39                    is_aggregator           30    object\n",
            "40                online_or_offline            6    object\n",
            "41                       b2c_or_b2b            3    object\n",
            "42                     forums_talks           80    object\n",
            "43             years_of_exp_founder           80    object\n",
            "44                         exposure           85    object\n",
            "45                   breadth_of_exp           85    object\n",
            "46                    education_lvl          103    object\n",
            "47                  education_years          103   float64\n",
            "48                   educ_relevance           95    object\n",
            "49             experience_relevance           87    object\n",
            "50                  degree_tier_uni           88    object\n",
            "51                    prof_renowned           91   float64\n",
            "52               selling_experience           82    object\n",
            "53            fortune100_experience           82   float64\n",
            "54            fortune500_experience           82   float64\n",
            "55           fortune1000_experience           82   float64\n",
            "56                   management_sim           83    object\n",
            "57              recognition_numbers           81   float64\n",
            "58             research_pub_numbers           84    object\n",
            "59                      skill_score           81   float64\n",
            "60           team_composition_score           84    object\n",
            "61         diff_obtaining_workforce           86    object\n",
            "62                 pricing_strategy           84    object\n",
            "63                      hyper_local           82    object\n",
            "64                   time_to_market           83    object\n",
            "65             emp_salary_structure          351    object\n",
            "66      relationship_other_founders           89    object\n",
            "67                  patent_position           86    object\n",
            "68                           awards           85    object\n",
            "69    founder_controversial_history           82    object\n",
            "70                               IP           85    object\n",
            "71                client_reputation          274    object\n",
            "72                        page_rank          154   float64\n",
            "73        prof_analyse_unstruc_data           83    object\n",
            "74                solutions_offered           85    object\n",
            "75      invested_through_incub_comp          136    object\n",
            "76      industry_trend_in_investing           82   float64\n",
            "77                     tech_disrupt           82    object\n",
            "78              direct_comp_numbers           80   float64\n",
            "79             emp_numbers_per_year          128   float64\n",
            "80                 last_funding_usd          167   float64\n",
            "81               recession_survival           98    object\n",
            "82            1st_investment_months           96   float64\n",
            "83              avg_investment_time           98   float64\n",
            "84               gartner_hype_stage          172    object\n",
            "85              tech_maturity_years          172    object\n",
            "86                     entrep_skill           61   float64\n",
            "87                 operations_skill           61   float64\n",
            "88                engineering_skill           61   float64\n",
            "89                  marketing_skill           61   float64\n",
            "90                 leadership_skill           61   float64\n",
            "91                         ds_skill           61   float64\n",
            "92               bus_strategy_skill           61   float64\n",
            "93            prod_management_skill           61   float64\n",
            "94                      sales_skill           61   float64\n",
            "95                     domain_skill           61   float64\n",
            "96                        law_skill           61   float64\n",
            "97                 consulting_skill           61   float64\n",
            "98                    finance_skill           61   float64\n",
            "99                 investment_skill           61   float64\n",
            "100                    renown_score           61   float64\n",
            "None\n"
          ],
          "name": "stdout"
        }
      ]
    },
    {
      "cell_type": "markdown",
      "metadata": {
        "id": "1p9Ny2v_L2ct",
        "colab_type": "text"
      },
      "source": [
        "## **Dealing with Missing Values**"
      ]
    },
    {
      "cell_type": "code",
      "metadata": {
        "id": "JBfMdcS7T6gd",
        "colab_type": "code",
        "colab": {}
      },
      "source": [
        "data = data.astype(int, errors='ignore')"
      ],
      "execution_count": 0,
      "outputs": []
    },
    {
      "cell_type": "code",
      "metadata": {
        "id": "5P9A9owWtYp5",
        "colab_type": "code",
        "outputId": "96fffa84-0d96-435b-c7ff-5692b8193f78",
        "colab": {
          "base_uri": "https://localhost:8080/",
          "height": 34
        }
      },
      "source": [
        "# imputing numeric columns with the corresponding column mean\n",
        "numeric_cols=['age','internet_activity_score','employee_count','funding_amount','investor_numbers_seed','investor_numbers_angel_vc','team_size_employees', 'repeat_investor_numbers','education_years','fortune100_experience','fortune500_experience','fortune1000_experience',\n",
        "'recognition_numbers','skill_score','page_rank','industry_trend_in_investing','direct_comp_numbers','emp_numbers_per_year','last_funding_usd','1st_investment_months','avg_investment_time', 'entrep_skill','operations_skill','engineering_skill','marketing_skill',\n",
        "'leadership_skill','ds_skill','bus_strategy_skill','prod_management_skill','sales_skill','domain_skill','law_skill','consulting_skill','finance_skill','investment_skill','renown_score']\n",
        "\n",
        "for column in numeric_cols:\n",
        "  data[column].fillna(round((data[column]).mean()), inplace=True)\n",
        "\n",
        "num_data = data[['age','internet_activity_score','employee_count','funding_amount','investor_numbers_seed','investor_numbers_angel_vc','team_size_employees', 'repeat_investor_numbers','education_years','fortune100_experience','fortune500_experience','fortune1000_experience',\n",
        "'recognition_numbers','skill_score','page_rank','industry_trend_in_investing','direct_comp_numbers','emp_numbers_per_year','last_funding_usd','1st_investment_months','avg_investment_time', 'entrep_skill','operations_skill','engineering_skill','marketing_skill',\n",
        "'leadership_skill','ds_skill','bus_strategy_skill','prod_management_skill','sales_skill','domain_skill','law_skill','consulting_skill','finance_skill','investment_skill','renown_score']]\n",
        "\n",
        "num_data.shape"
      ],
      "execution_count": 0,
      "outputs": [
        {
          "output_type": "execute_result",
          "data": {
            "text/plain": [
              "(472, 36)"
            ]
          },
          "metadata": {
            "tags": []
          },
          "execution_count": 15
        }
      ]
    },
    {
      "cell_type": "code",
      "metadata": {
        "id": "i5qz1NPEs4LA",
        "colab_type": "code",
        "colab": {}
      },
      "source": [
        "# Encoding the categorical variables\n",
        "encoder = OrdinalEncoder()\n",
        "\n",
        "categoric_cols = ['Status','functions', 'change_team_size','continent','topangel_pres_prev_round','sales_support_material_numbers', 'worked_top_company','company_size_worked_past','part_of_startup','part_of_successful_startup',  \n",
        "'partner_big5_consulting', 'consulting_exp', 'prod_or_serv','catering_verticals', 'private_or_public','consumer_data','structured_or_not','subscription_based','cloud_or_platform','local_or_global','linear_or_not',  \n",
        " 'capital_intensive_or_not', 'partner_numbers', 'crowdsourcing_based','crowdfunding_based','ml_based','pred_analytics','speech_analytics', 'prescriptive_analytics','big_data','cross_channel_analytics', 'owns_data',\n",
        " 'is_aggregator','online_or_offline','b2c_or_b2b','forums_talks','years_of_exp_founder', 'exposure', 'breadth_of_exp', 'education_lvl', 'educ_relevance','experience_relevance', 'degree_tier_uni', 'selling_experience',\n",
        " 'management_sim','research_pub_numbers','team_composition_score','diff_obtaining_workforce', 'pricing_strategy','hyper_local', 'time_to_market','emp_salary_structure','relationship_other_founders', 'patent_position', 'competitor_entry_barriers', 'awards',\n",
        " 'founder_controversial_history', 'IP','client_reputation','prof_analyse_unstruc_data','solutions_offered','invested_through_incub_comp', 'tech_disrupt', 'recession_survival', 'gartner_hype_stage','tech_maturity_years']\n",
        "\n",
        "def encode(data):\n",
        "    #retains only non-null values\n",
        "    nonulls = np.array(data.dropna())\n",
        "    #reshapes the data for encoding\n",
        "    impute_reshape = nonulls.reshape(-1,1)\n",
        "    #encode date\n",
        "    impute_ordinal = encoder.fit_transform(impute_reshape)\n",
        "    #Assign back encoded values to non-null values\n",
        "    data.loc[data.notnull()] = np.squeeze(impute_ordinal)\n",
        "    return data\n",
        "\n",
        "for columns in categoric_cols:\n",
        "    encode(data[columns])"
      ],
      "execution_count": 0,
      "outputs": []
    },
    {
      "cell_type": "code",
      "metadata": {
        "id": "Zs8IrcXEJ1Mh",
        "colab_type": "code",
        "colab": {}
      },
      "source": [
        "cat_data = data[['Status','functions', 'change_team_size','continent','topangel_pres_prev_round','sales_support_material_numbers', 'worked_top_company','company_size_worked_past','part_of_startup','part_of_successful_startup',  \n",
        "'partner_big5_consulting', 'consulting_exp', 'prod_or_serv','catering_verticals', 'private_or_public','consumer_data','structured_or_not','subscription_based','cloud_or_platform','local_or_global','linear_or_not',  \n",
        " 'capital_intensive_or_not', 'partner_numbers', 'crowdsourcing_based','crowdfunding_based','ml_based','pred_analytics','speech_analytics', 'prescriptive_analytics','big_data','cross_channel_analytics', 'owns_data',\n",
        " 'is_aggregator','online_or_offline','b2c_or_b2b','forums_talks','years_of_exp_founder', 'exposure', 'breadth_of_exp', 'education_lvl', 'educ_relevance','experience_relevance', 'degree_tier_uni', 'selling_experience',\n",
        " 'management_sim','research_pub_numbers','team_composition_score','diff_obtaining_workforce', 'pricing_strategy','hyper_local', 'time_to_market','emp_salary_structure','relationship_other_founders', 'patent_position', 'competitor_entry_barriers', 'awards',\n",
        " 'founder_controversial_history', 'IP','client_reputation','prof_analyse_unstruc_data','solutions_offered','invested_through_incub_comp', 'tech_disrupt', 'recession_survival', 'gartner_hype_stage','tech_maturity_years']]\n",
        "\n",
        "cat_data = cat_data.apply(lambda x: x.fillna(x.value_counts().index[0]))"
      ],
      "execution_count": 0,
      "outputs": []
    },
    {
      "cell_type": "code",
      "metadata": {
        "id": "-_eKeJMpUEZp",
        "colab_type": "code",
        "outputId": "5071bced-c75c-4ad4-de2b-91552e0acfe6",
        "colab": {
          "base_uri": "https://localhost:8080/",
          "height": 34
        }
      },
      "source": [
        "data = pd.concat([cat_data, num_data], axis=1)\n",
        "print(data.shape)"
      ],
      "execution_count": 0,
      "outputs": [
        {
          "output_type": "stream",
          "text": [
            "(472, 102)\n"
          ],
          "name": "stdout"
        }
      ]
    },
    {
      "cell_type": "code",
      "metadata": {
        "id": "28t3QLdxXZMm",
        "colab_type": "code",
        "outputId": "e6a9ebff-d1be-400b-ac39-014aad6c4630",
        "colab": {
          "base_uri": "https://localhost:8080/",
          "height": 34
        }
      },
      "source": [
        "print(\"Missing values after filling NaN-s:\", data.isna().sum().sum())"
      ],
      "execution_count": 0,
      "outputs": [
        {
          "output_type": "stream",
          "text": [
            "Missing values after filling NaN-s: 0\n"
          ],
          "name": "stdout"
        }
      ]
    },
    {
      "cell_type": "markdown",
      "metadata": {
        "id": "ditMSPvbW1zw",
        "colab_type": "text"
      },
      "source": [
        "# **Correlations between variables**"
      ]
    },
    {
      "cell_type": "code",
      "metadata": {
        "id": "tQIXsmGHhu0P",
        "colab_type": "code",
        "colab": {}
      },
      "source": [
        "def correlation_ratio(categories, measurements):\n",
        "    fcat, _ = pd.factorize(categories)\n",
        "    cat_num = np.max(fcat)+1\n",
        "    y_avg_array = np.zeros(cat_num)\n",
        "    n_array = np.zeros(cat_num)\n",
        "    for i in range(0,cat_num):\n",
        "        cat_measures = measurements[np.argwhere(fcat == i).flatten()]\n",
        "        n_array[i] = len(cat_measures)\n",
        "        y_avg_array[i] = np.average(cat_measures)\n",
        "    y_total_avg = np.sum(np.multiply(y_avg_array,n_array))/np.sum(n_array)\n",
        "    numerator = np.sum(np.multiply(n_array,np.power(np.subtract(y_avg_array,y_total_avg),2)))\n",
        "    denominator = np.sum(np.power(np.subtract(measurements,y_total_avg),2))\n",
        "    if numerator == 0:\n",
        "        eta = 0.0\n",
        "    else:\n",
        "        eta = np.sqrt(numerator/denominator)\n",
        "    return eta"
      ],
      "execution_count": 0,
      "outputs": []
    },
    {
      "cell_type": "code",
      "metadata": {
        "id": "wYvC-_7_h1h-",
        "colab_type": "code",
        "outputId": "293ab78e-4ecb-4c53-e37e-9c422e71db77",
        "colab": {
          "base_uri": "https://localhost:8080/",
          "height": 780
        }
      },
      "source": [
        "data_cols = data.columns\n",
        "col_len = len(data_cols)\n",
        "num = 0\n",
        "count=1\n",
        "while (num < (col_len)):  \n",
        "  num1=num+1\n",
        "  while (num1 < (col_len)):\n",
        "    if abs(correlation_ratio(data.iloc[:,num],data.iloc[:,num1])) > 0.8:\n",
        "      print(\"#\",count,\"Correlation between\", data.columns[num], \"and\", data.columns[num1],\":\",correlation_ratio(data.iloc[:,num],data.iloc[:,num1]).round(2))\n",
        "      num1+=1\n",
        "      count+=1\n",
        "    else:\n",
        "      num1 +=1\n",
        "  num +=1\n",
        "  num1=num+1"
      ],
      "execution_count": 0,
      "outputs": [
        {
          "output_type": "stream",
          "text": [
            "# 1 Correlation between part_of_startup and part_of_successful_startup : 0.83\n",
            "# 2 Correlation between education_lvl and education_years : 0.92\n",
            "# 3 Correlation between internet_activity_score and employee_count : 0.9\n",
            "# 4 Correlation between internet_activity_score and investor_numbers_seed : 0.83\n",
            "# 5 Correlation between internet_activity_score and investor_numbers_angel_vc : 0.81\n",
            "# 6 Correlation between internet_activity_score and team_size_employees : 0.98\n",
            "# 7 Correlation between internet_activity_score and repeat_investor_numbers : 0.81\n",
            "# 8 Correlation between internet_activity_score and fortune100_experience : 0.8\n",
            "# 9 Correlation between internet_activity_score and recognition_numbers : 0.86\n",
            "# 10 Correlation between internet_activity_score and page_rank : 0.81\n",
            "# 11 Correlation between internet_activity_score and direct_comp_numbers : 0.81\n",
            "# 12 Correlation between internet_activity_score and emp_numbers_per_year : 0.98\n",
            "# 13 Correlation between internet_activity_score and 1st_investment_months : 0.81\n",
            "# 14 Correlation between internet_activity_score and avg_investment_time : 0.85\n",
            "# 15 Correlation between internet_activity_score and entrep_skill : 0.83\n",
            "# 16 Correlation between internet_activity_score and prod_management_skill : 0.81\n",
            "# 17 Correlation between internet_activity_score and finance_skill : 0.81\n",
            "# 18 Correlation between employee_count and team_size_employees : 0.99\n",
            "# 19 Correlation between employee_count and emp_numbers_per_year : 0.94\n",
            "# 20 Correlation between funding_amount and last_funding_usd : 0.95\n",
            "# 21 Correlation between funding_amount and law_skill : 0.88\n",
            "# 22 Correlation between team_size_employees and emp_numbers_per_year : 0.98\n",
            "# 23 Correlation between team_size_employees and last_funding_usd : 0.81\n",
            "# 24 Correlation between recognition_numbers and emp_numbers_per_year : 0.95\n",
            "# 25 Correlation between recognition_numbers and law_skill : 0.94\n",
            "# 26 Correlation between page_rank and industry_trend_in_investing : 0.92\n",
            "# 27 Correlation between page_rank and direct_comp_numbers : 0.97\n",
            "# 28 Correlation between page_rank and emp_numbers_per_year : 0.99\n",
            "# 29 Correlation between page_rank and last_funding_usd : 0.88\n",
            "# 30 Correlation between page_rank and 1st_investment_months : 0.89\n",
            "# 31 Correlation between page_rank and avg_investment_time : 0.9\n",
            "# 32 Correlation between page_rank and engineering_skill : 0.86\n",
            "# 33 Correlation between page_rank and marketing_skill : 0.84\n",
            "# 34 Correlation between page_rank and leadership_skill : 0.89\n",
            "# 35 Correlation between page_rank and ds_skill : 0.97\n",
            "# 36 Correlation between page_rank and bus_strategy_skill : 0.84\n",
            "# 37 Correlation between page_rank and prod_management_skill : 0.84\n",
            "# 38 Correlation between page_rank and domain_skill : 0.81\n",
            "# 39 Correlation between page_rank and law_skill : 0.97\n",
            "# 40 Correlation between page_rank and consulting_skill : 0.94\n",
            "# 41 Correlation between page_rank and investment_skill : 0.85\n",
            "# 42 Correlation between page_rank and renown_score : 0.87\n",
            "# 43 Correlation between last_funding_usd and law_skill : 0.88\n",
            "# 44 Correlation between 1st_investment_months and avg_investment_time : 0.87\n"
          ],
          "name": "stdout"
        }
      ]
    },
    {
      "cell_type": "code",
      "metadata": {
        "id": "VSOSOJTldxj7",
        "colab_type": "code",
        "colab": {}
      },
      "source": [
        "# mean of fortune 100, 500, 1000\n",
        "fortune_col = data.loc[: , ['fortune100_experience','fortune500_experience','fortune1000_experience']]\n",
        "data['fortune_experience_mean'] = fortune_col.mean(axis=1)\n",
        "\n",
        "# dropping some variables\n",
        "# I have dropped education years, as I think education level is much more descriptive...one could spend 10 years on eduction and still be with a bachelors degree\n",
        "# I have dropped recognition numbers, because it was highly correlated with emp_numbeers_per_year, and the other variables showing the number of employees have already been dropped,\n",
        "# so between the two the only viable option was to drop recognition_numbers\n",
        "data = data.drop(['team_size_employees','funding_amount', 'fortune100_experience','fortune500_experience','fortune1000_experience','page_rank','internet_activity_score',\n",
        "                    'employee_count','education_years','recognition_numbers','1st_investment_months','part_of_startup','law_skill'], axis=1)"
      ],
      "execution_count": 0,
      "outputs": []
    },
    {
      "cell_type": "code",
      "metadata": {
        "id": "w6lXz7Eslo3A",
        "colab_type": "code",
        "colab": {}
      },
      "source": [
        "# As we can see, we have no more pairs of variables between which correlation is more than 0.8\n",
        "data_cols = data.columns\n",
        "col_len = len(data_cols)\n",
        "num = 0\n",
        "count=1\n",
        "while (num < (col_len)):  \n",
        "  num1=num+1\n",
        "  while (num1 < (col_len)):\n",
        "    if abs(correlation_ratio(data.iloc[:,num],data.iloc[:,num1])) > 0.8:\n",
        "      print(\"#\",count,\"Correlation between\", data.columns[num], \"and\", data.columns[num1],\":\",correlation_ratio(data.iloc[:,num],data.iloc[:,num1]).round(2))\n",
        "      num1+=1\n",
        "      count+=1\n",
        "    else:\n",
        "      num1 +=1\n",
        "  num +=1\n",
        "  num1=num+1"
      ],
      "execution_count": 0,
      "outputs": []
    },
    {
      "cell_type": "markdown",
      "metadata": {
        "id": "Kx0X3_qf3-5y",
        "colab_type": "text"
      },
      "source": [
        "# **Target split and Train-Test Split**"
      ]
    },
    {
      "cell_type": "code",
      "metadata": {
        "id": "hp9z22nHA7_r",
        "colab_type": "code",
        "colab": {}
      },
      "source": [
        "y = data[\"Status\"]                       \n",
        "x = data.drop([\"Status\"], axis=1)"
      ],
      "execution_count": 0,
      "outputs": []
    },
    {
      "cell_type": "code",
      "metadata": {
        "id": "DmcSl_f44Me4",
        "colab_type": "code",
        "colab": {}
      },
      "source": [
        "# Train-Test split\n",
        "x_train, x_test, y_train, y_test = train_test_split(x, y, test_size=0.2, random_state=42)"
      ],
      "execution_count": 0,
      "outputs": []
    },
    {
      "cell_type": "code",
      "metadata": {
        "id": "a2tR5obZDLuD",
        "colab_type": "code",
        "colab": {}
      },
      "source": [
        "x_train_index = x_train.index\n",
        "x_test_index = x_test.index"
      ],
      "execution_count": 0,
      "outputs": []
    },
    {
      "cell_type": "markdown",
      "metadata": {
        "id": "3z-Mgx0a5oS6",
        "colab_type": "text"
      },
      "source": [
        "# **Scaling: Normalization of Data**"
      ]
    },
    {
      "cell_type": "code",
      "metadata": {
        "id": "bPukd51r8a76",
        "colab_type": "code",
        "colab": {}
      },
      "source": [
        "numeric_x_train = x_train[['age','investor_numbers_seed','investor_numbers_angel_vc', 'repeat_investor_numbers', 'skill_score','industry_trend_in_investing','direct_comp_numbers','emp_numbers_per_year','last_funding_usd',\n",
        "                           'avg_investment_time', 'entrep_skill','operations_skill','engineering_skill','marketing_skill', 'leadership_skill','ds_skill','bus_strategy_skill','prod_management_skill','sales_skill',\n",
        "                           'domain_skill','consulting_skill','finance_skill','investment_skill','renown_score','fortune_experience_mean']]\n",
        "\n",
        "numeric_x_test = x_test[['age','investor_numbers_seed','investor_numbers_angel_vc', 'repeat_investor_numbers', 'skill_score','industry_trend_in_investing','direct_comp_numbers','emp_numbers_per_year','last_funding_usd',\n",
        "                         'avg_investment_time', 'entrep_skill','operations_skill','engineering_skill','marketing_skill', 'leadership_skill','ds_skill','bus_strategy_skill','prod_management_skill','sales_skill',\n",
        "                         'domain_skill','consulting_skill','finance_skill','investment_skill','renown_score','fortune_experience_mean']]"
      ],
      "execution_count": 0,
      "outputs": []
    },
    {
      "cell_type": "code",
      "metadata": {
        "id": "wfVaBsaQ4OBC",
        "colab_type": "code",
        "colab": {}
      },
      "source": [
        "scaler = RobustScaler()\n",
        "numeric_x_train = scaler.fit_transform(numeric_x_train)\n",
        "numeric_x_test = scaler.transform(numeric_x_test)\n",
        "\n",
        "num_x_train = pd.DataFrame(numeric_x_train)\n",
        "num_x_test = pd.DataFrame(numeric_x_test)"
      ],
      "execution_count": 0,
      "outputs": []
    },
    {
      "cell_type": "code",
      "metadata": {
        "id": "e2nTAmou9Bxk",
        "colab_type": "code",
        "colab": {}
      },
      "source": [
        "num_x_train.columns = [['age','investor_numbers_seed','investor_numbers_angel_vc', 'repeat_investor_numbers', 'skill_score','industry_trend_in_investing','direct_comp_numbers','emp_numbers_per_year','last_funding_usd',\n",
        "                'avg_investment_time', 'entrep_skill','operations_skill','engineering_skill','marketing_skill', 'leadership_skill','ds_skill','bus_strategy_skill','prod_management_skill','sales_skill',\n",
        "                'domain_skill','consulting_skill','finance_skill','investment_skill','renown_score','fortune_experience_mean']]\n",
        "\n",
        "num_x_test.columns = [['age','investor_numbers_seed','investor_numbers_angel_vc', 'repeat_investor_numbers', 'skill_score','industry_trend_in_investing','direct_comp_numbers','emp_numbers_per_year','last_funding_usd',\n",
        "               'avg_investment_time', 'entrep_skill','operations_skill','engineering_skill','marketing_skill', 'leadership_skill','ds_skill','bus_strategy_skill','prod_management_skill','sales_skill',\n",
        "               'domain_skill','consulting_skill','finance_skill','investment_skill','renown_score','fortune_experience_mean']]"
      ],
      "execution_count": 0,
      "outputs": []
    },
    {
      "cell_type": "code",
      "metadata": {
        "id": "c-6xJGZWCMcn",
        "colab_type": "code",
        "colab": {}
      },
      "source": [
        "num_x_train.index = x_train_index\n",
        "num_x_test.index = x_test_index"
      ],
      "execution_count": 0,
      "outputs": []
    },
    {
      "cell_type": "code",
      "metadata": {
        "id": "bPAJpgIP96Sf",
        "colab_type": "code",
        "colab": {}
      },
      "source": [
        "cat_x_train = x_train[['functions', 'change_team_size','continent','topangel_pres_prev_round','sales_support_material_numbers', 'worked_top_company','company_size_worked_past','part_of_successful_startup',  \n",
        "              'partner_big5_consulting', 'consulting_exp', 'prod_or_serv','catering_verticals', 'private_or_public','consumer_data','structured_or_not','subscription_based','cloud_or_platform','local_or_global','linear_or_not',  \n",
        "              'capital_intensive_or_not', 'partner_numbers', 'crowdsourcing_based','crowdfunding_based','ml_based','pred_analytics','speech_analytics', 'prescriptive_analytics','big_data','cross_channel_analytics', 'owns_data',\n",
        "              'is_aggregator','online_or_offline','b2c_or_b2b','forums_talks','years_of_exp_founder', 'exposure', 'breadth_of_exp', 'education_lvl', 'educ_relevance','experience_relevance', 'degree_tier_uni', 'selling_experience',\n",
        "              'management_sim','research_pub_numbers','team_composition_score','diff_obtaining_workforce', 'pricing_strategy','hyper_local', 'time_to_market','emp_salary_structure','relationship_other_founders', 'patent_position', \n",
        "              'competitor_entry_barriers', 'awards','founder_controversial_history', 'IP','client_reputation','prof_analyse_unstruc_data','solutions_offered','invested_through_incub_comp', 'tech_disrupt', 'recession_survival', \n",
        "              'gartner_hype_stage','tech_maturity_years']]\n",
        "\n",
        "cat_x_test = x_test[['functions', 'change_team_size','continent','topangel_pres_prev_round','sales_support_material_numbers', 'worked_top_company','company_size_worked_past','part_of_successful_startup',  \n",
        "              'partner_big5_consulting', 'consulting_exp', 'prod_or_serv','catering_verticals', 'private_or_public','consumer_data','structured_or_not','subscription_based','cloud_or_platform','local_or_global','linear_or_not',  \n",
        "              'capital_intensive_or_not', 'partner_numbers', 'crowdsourcing_based','crowdfunding_based','ml_based','pred_analytics','speech_analytics', 'prescriptive_analytics','big_data','cross_channel_analytics', 'owns_data',\n",
        "              'is_aggregator','online_or_offline','b2c_or_b2b','forums_talks','years_of_exp_founder', 'exposure', 'breadth_of_exp', 'education_lvl', 'educ_relevance','experience_relevance', 'degree_tier_uni', 'selling_experience',\n",
        "              'management_sim','research_pub_numbers','team_composition_score','diff_obtaining_workforce', 'pricing_strategy','hyper_local', 'time_to_market','emp_salary_structure','relationship_other_founders', 'patent_position', \n",
        "              'competitor_entry_barriers', 'awards','founder_controversial_history', 'IP','client_reputation','prof_analyse_unstruc_data','solutions_offered','invested_through_incub_comp', 'tech_disrupt', 'recession_survival', \n",
        "              'gartner_hype_stage','tech_maturity_years']]"
      ],
      "execution_count": 0,
      "outputs": []
    },
    {
      "cell_type": "code",
      "metadata": {
        "id": "xxts2q2p9Qa9",
        "colab_type": "code",
        "colab": {}
      },
      "source": [
        "x_train = pd.concat([num_x_train, cat_x_train], axis=1)\n",
        "x_test = pd.concat([num_x_test, cat_x_test], axis=1)"
      ],
      "execution_count": 0,
      "outputs": []
    },
    {
      "cell_type": "markdown",
      "metadata": {
        "id": "KvR7dhNx7Vwc",
        "colab_type": "text"
      },
      "source": [
        "# **Models**"
      ]
    },
    {
      "cell_type": "markdown",
      "metadata": {
        "id": "3sZOJ3VD7cUT",
        "colab_type": "text"
      },
      "source": [
        "## **Logistic Regression**"
      ]
    },
    {
      "cell_type": "code",
      "metadata": {
        "id": "GSUczjpK4PHc",
        "colab_type": "code",
        "outputId": "ab6f245b-f544-4004-b61f-62a23cfe6fb2",
        "colab": {
          "base_uri": "https://localhost:8080/",
          "height": 110
        }
      },
      "source": [
        "logit=LogisticRegression(random_state=42).fit(x_train,y_train)\n",
        "\n",
        "y_train_logit = logit.predict(x_train)\n",
        "y_test_logit = logit.predict(x_test) \n",
        "\n",
        "y_train_hat = logit.predict_proba(x_train)[:,1]\n",
        "y_test_hat = logit.predict_proba(x_test)[:,1]\n",
        "\n",
        "results_summary=pd.DataFrame({\"Accuracy\":[accuracy_score(y_train,y_train_logit)*100,accuracy_score(y_test,y_test_logit)*100],\n",
        "                              \"ROC_AUC\":[roc_auc_score(y_train,y_train_hat)*100,roc_auc_score(y_test,y_test_hat)*100],\n",
        "                              \"Recall\":[recall_score(y_train, y_train_logit)*100,recall_score(y_test, y_test_logit)*100],\n",
        "                              \"Precision\":[precision_score(y_train, y_train_logit)*100,precision_score(y_test, y_test_logit)*100],\n",
        "                              \"f1_score\":[f1_score(y_train, y_train_logit)*100,f1_score(y_test, y_test_logit)*100]\n",
        "                              },\n",
        "                             index=[\"Training set\",\"Testing set\"])\n",
        "results_summary"
      ],
      "execution_count": 0,
      "outputs": [
        {
          "output_type": "execute_result",
          "data": {
            "text/html": [
              "<div>\n",
              "<style scoped>\n",
              "    .dataframe tbody tr th:only-of-type {\n",
              "        vertical-align: middle;\n",
              "    }\n",
              "\n",
              "    .dataframe tbody tr th {\n",
              "        vertical-align: top;\n",
              "    }\n",
              "\n",
              "    .dataframe thead th {\n",
              "        text-align: right;\n",
              "    }\n",
              "</style>\n",
              "<table border=\"1\" class=\"dataframe\">\n",
              "  <thead>\n",
              "    <tr style=\"text-align: right;\">\n",
              "      <th></th>\n",
              "      <th>Accuracy</th>\n",
              "      <th>ROC_AUC</th>\n",
              "      <th>Recall</th>\n",
              "      <th>Precision</th>\n",
              "      <th>f1_score</th>\n",
              "    </tr>\n",
              "  </thead>\n",
              "  <tbody>\n",
              "    <tr>\n",
              "      <th>Training set</th>\n",
              "      <td>98.143236</td>\n",
              "      <td>99.880228</td>\n",
              "      <td>99.176955</td>\n",
              "      <td>97.967480</td>\n",
              "      <td>98.568507</td>\n",
              "    </tr>\n",
              "    <tr>\n",
              "      <th>Testing set</th>\n",
              "      <td>77.894737</td>\n",
              "      <td>85.581623</td>\n",
              "      <td>77.419355</td>\n",
              "      <td>87.272727</td>\n",
              "      <td>82.051282</td>\n",
              "    </tr>\n",
              "  </tbody>\n",
              "</table>\n",
              "</div>"
            ],
            "text/plain": [
              "               Accuracy    ROC_AUC     Recall  Precision   f1_score\n",
              "Training set  98.143236  99.880228  99.176955  97.967480  98.568507\n",
              "Testing set   77.894737  85.581623  77.419355  87.272727  82.051282"
            ]
          },
          "metadata": {
            "tags": []
          },
          "execution_count": 33
        }
      ]
    },
    {
      "cell_type": "code",
      "metadata": {
        "id": "0EYFM1ju4PFz",
        "colab_type": "code",
        "outputId": "01928b26-4ff9-47bf-9b9a-6685141c163d",
        "colab": {
          "base_uri": "https://localhost:8080/",
          "height": 138
        }
      },
      "source": [
        "param_logit={'class_weight':[None,'balanced'],\n",
        "            'C':np.linspace(0.0001,10,400),\n",
        "            'penalty': ['l1','l2', \"elasticnet\"]}\n",
        "\n",
        "gs_logit = GridSearchCV(estimator=logit,\n",
        "                        param_grid=param_logit,\n",
        "                        cv=5,scoring='roc_auc',verbose=1,n_jobs=-1).fit(x_train, y_train)\n",
        "\n",
        "gs_logit.best_params_"
      ],
      "execution_count": 0,
      "outputs": [
        {
          "output_type": "stream",
          "text": [
            "Fitting 5 folds for each of 2400 candidates, totalling 12000 fits\n"
          ],
          "name": "stdout"
        },
        {
          "output_type": "stream",
          "text": [
            "[Parallel(n_jobs=-1)]: Using backend LokyBackend with 2 concurrent workers.\n",
            "[Parallel(n_jobs=-1)]: Done 330 tasks      | elapsed:    3.8s\n",
            "[Parallel(n_jobs=-1)]: Done 2730 tasks      | elapsed:   27.4s\n",
            "[Parallel(n_jobs=-1)]: Done 6730 tasks      | elapsed:  1.1min\n",
            "[Parallel(n_jobs=-1)]: Done 12000 out of 12000 | elapsed:  1.9min finished\n"
          ],
          "name": "stderr"
        },
        {
          "output_type": "execute_result",
          "data": {
            "text/plain": [
              "{'C': 0.22566165413533834, 'class_weight': None, 'penalty': 'l2'}"
            ]
          },
          "metadata": {
            "tags": []
          },
          "execution_count": 34
        }
      ]
    },
    {
      "cell_type": "code",
      "metadata": {
        "id": "yl6YqeeP4OFI",
        "colab_type": "code",
        "outputId": "8f14688e-727e-4c29-bdad-846d368a869b",
        "colab": {
          "base_uri": "https://localhost:8080/",
          "height": 110
        }
      },
      "source": [
        "logit2=LogisticRegression(class_weight=None, penalty='l2',C=0.005,random_state=42).fit(x_train,y_train)\n",
        "\n",
        "y_train_logit2 = logit2.predict(x_train)\n",
        "y_test_logit2 = logit2.predict(x_test) \n",
        "\n",
        "y_train_hat2 = logit2.predict_proba(x_train)[:,1]\n",
        "y_test_hat2 = logit2.predict_proba(x_test)[:,1]\n",
        "\n",
        "results_summary=pd.DataFrame({\"Accuracy\":[accuracy_score(y_train,y_train_logit2)*100,accuracy_score(y_test,y_test_logit2)*100],\n",
        "                              \"ROC_AUC\":[roc_auc_score(y_train,y_train_hat2)*100,roc_auc_score(y_test,y_test_hat2)*100],\n",
        "                              \"Recall\":[recall_score(y_train, y_train_logit2)*100,recall_score(y_test, y_test_logit2)*100],\n",
        "                              \"Precision\":[precision_score(y_train, y_train_logit2)*100,precision_score(y_test, y_test_logit2)*100],\n",
        "                              \"f1_score\":[f1_score(y_train, y_train_logit2)*100,f1_score(y_test, y_test_logit2)*100]\n",
        "                              },\n",
        "                             index=[\"Training set\",\"Testing set\"])\n",
        "results_summary"
      ],
      "execution_count": 0,
      "outputs": [
        {
          "output_type": "execute_result",
          "data": {
            "text/html": [
              "<div>\n",
              "<style scoped>\n",
              "    .dataframe tbody tr th:only-of-type {\n",
              "        vertical-align: middle;\n",
              "    }\n",
              "\n",
              "    .dataframe tbody tr th {\n",
              "        vertical-align: top;\n",
              "    }\n",
              "\n",
              "    .dataframe thead th {\n",
              "        text-align: right;\n",
              "    }\n",
              "</style>\n",
              "<table border=\"1\" class=\"dataframe\">\n",
              "  <thead>\n",
              "    <tr style=\"text-align: right;\">\n",
              "      <th></th>\n",
              "      <th>Accuracy</th>\n",
              "      <th>ROC_AUC</th>\n",
              "      <th>Recall</th>\n",
              "      <th>Precision</th>\n",
              "      <th>f1_score</th>\n",
              "    </tr>\n",
              "  </thead>\n",
              "  <tbody>\n",
              "    <tr>\n",
              "      <th>Training set</th>\n",
              "      <td>89.389920</td>\n",
              "      <td>96.692464</td>\n",
              "      <td>97.942387</td>\n",
              "      <td>87.179487</td>\n",
              "      <td>92.248062</td>\n",
              "    </tr>\n",
              "    <tr>\n",
              "      <th>Testing set</th>\n",
              "      <td>76.842105</td>\n",
              "      <td>84.555230</td>\n",
              "      <td>82.258065</td>\n",
              "      <td>82.258065</td>\n",
              "      <td>82.258065</td>\n",
              "    </tr>\n",
              "  </tbody>\n",
              "</table>\n",
              "</div>"
            ],
            "text/plain": [
              "               Accuracy    ROC_AUC     Recall  Precision   f1_score\n",
              "Training set  89.389920  96.692464  97.942387  87.179487  92.248062\n",
              "Testing set   76.842105  84.555230  82.258065  82.258065  82.258065"
            ]
          },
          "metadata": {
            "tags": []
          },
          "execution_count": 35
        }
      ]
    },
    {
      "cell_type": "code",
      "metadata": {
        "id": "bSpsM1jhHBBz",
        "colab_type": "code",
        "outputId": "1d21e2d2-cce4-4dd3-8a21-908df1a9d738",
        "colab": {
          "base_uri": "https://localhost:8080/",
          "height": 662
        }
      },
      "source": [
        "logit_coefs = pd.DataFrame(sorted(list(zip(x.columns, logit2.coef_[0])),\n",
        "                                   key=(lambda x: x[1]),\n",
        "                                   reverse=True),\n",
        "                            columns=['Feature', 'Coefficient'])\n",
        "logit_coefs[0:20]"
      ],
      "execution_count": 0,
      "outputs": [
        {
          "output_type": "execute_result",
          "data": {
            "text/html": [
              "<div>\n",
              "<style scoped>\n",
              "    .dataframe tbody tr th:only-of-type {\n",
              "        vertical-align: middle;\n",
              "    }\n",
              "\n",
              "    .dataframe tbody tr th {\n",
              "        vertical-align: top;\n",
              "    }\n",
              "\n",
              "    .dataframe thead th {\n",
              "        text-align: right;\n",
              "    }\n",
              "</style>\n",
              "<table border=\"1\" class=\"dataframe\">\n",
              "  <thead>\n",
              "    <tr style=\"text-align: right;\">\n",
              "      <th></th>\n",
              "      <th>Feature</th>\n",
              "      <th>Coefficient</th>\n",
              "    </tr>\n",
              "  </thead>\n",
              "  <tbody>\n",
              "    <tr>\n",
              "      <th>0</th>\n",
              "      <td>pred_analytics</td>\n",
              "      <td>0.121862</td>\n",
              "    </tr>\n",
              "    <tr>\n",
              "      <th>1</th>\n",
              "      <td>investment_skill</td>\n",
              "      <td>0.102108</td>\n",
              "    </tr>\n",
              "    <tr>\n",
              "      <th>2</th>\n",
              "      <td>direct_comp_numbers</td>\n",
              "      <td>0.100795</td>\n",
              "    </tr>\n",
              "    <tr>\n",
              "      <th>3</th>\n",
              "      <td>sales_skill</td>\n",
              "      <td>0.093894</td>\n",
              "    </tr>\n",
              "    <tr>\n",
              "      <th>4</th>\n",
              "      <td>competitor_entry_barriers</td>\n",
              "      <td>0.092017</td>\n",
              "    </tr>\n",
              "    <tr>\n",
              "      <th>5</th>\n",
              "      <td>change_team_size</td>\n",
              "      <td>0.081759</td>\n",
              "    </tr>\n",
              "    <tr>\n",
              "      <th>6</th>\n",
              "      <td>subscription_based</td>\n",
              "      <td>0.073891</td>\n",
              "    </tr>\n",
              "    <tr>\n",
              "      <th>7</th>\n",
              "      <td>partner_numbers</td>\n",
              "      <td>0.072702</td>\n",
              "    </tr>\n",
              "    <tr>\n",
              "      <th>8</th>\n",
              "      <td>prescriptive_analytics</td>\n",
              "      <td>0.071266</td>\n",
              "    </tr>\n",
              "    <tr>\n",
              "      <th>9</th>\n",
              "      <td>renown_score</td>\n",
              "      <td>0.071106</td>\n",
              "    </tr>\n",
              "    <tr>\n",
              "      <th>10</th>\n",
              "      <td>breadth_of_exp</td>\n",
              "      <td>0.070682</td>\n",
              "    </tr>\n",
              "    <tr>\n",
              "      <th>11</th>\n",
              "      <td>invested_through_incub_comp</td>\n",
              "      <td>0.068284</td>\n",
              "    </tr>\n",
              "    <tr>\n",
              "      <th>12</th>\n",
              "      <td>investor_numbers_seed</td>\n",
              "      <td>0.065489</td>\n",
              "    </tr>\n",
              "    <tr>\n",
              "      <th>13</th>\n",
              "      <td>structured_or_not</td>\n",
              "      <td>0.063555</td>\n",
              "    </tr>\n",
              "    <tr>\n",
              "      <th>14</th>\n",
              "      <td>emp_salary_structure</td>\n",
              "      <td>0.060376</td>\n",
              "    </tr>\n",
              "    <tr>\n",
              "      <th>15</th>\n",
              "      <td>gartner_hype_stage</td>\n",
              "      <td>0.058472</td>\n",
              "    </tr>\n",
              "    <tr>\n",
              "      <th>16</th>\n",
              "      <td>emp_numbers_per_year</td>\n",
              "      <td>0.054703</td>\n",
              "    </tr>\n",
              "    <tr>\n",
              "      <th>17</th>\n",
              "      <td>operations_skill</td>\n",
              "      <td>0.053160</td>\n",
              "    </tr>\n",
              "    <tr>\n",
              "      <th>18</th>\n",
              "      <td>entrep_skill</td>\n",
              "      <td>0.052140</td>\n",
              "    </tr>\n",
              "    <tr>\n",
              "      <th>19</th>\n",
              "      <td>company_size_worked_past</td>\n",
              "      <td>0.050848</td>\n",
              "    </tr>\n",
              "  </tbody>\n",
              "</table>\n",
              "</div>"
            ],
            "text/plain": [
              "                        Feature  Coefficient\n",
              "0                pred_analytics     0.121862\n",
              "1              investment_skill     0.102108\n",
              "2           direct_comp_numbers     0.100795\n",
              "3                   sales_skill     0.093894\n",
              "4     competitor_entry_barriers     0.092017\n",
              "5              change_team_size     0.081759\n",
              "6            subscription_based     0.073891\n",
              "7               partner_numbers     0.072702\n",
              "8        prescriptive_analytics     0.071266\n",
              "9                  renown_score     0.071106\n",
              "10               breadth_of_exp     0.070682\n",
              "11  invested_through_incub_comp     0.068284\n",
              "12        investor_numbers_seed     0.065489\n",
              "13            structured_or_not     0.063555\n",
              "14         emp_salary_structure     0.060376\n",
              "15           gartner_hype_stage     0.058472\n",
              "16         emp_numbers_per_year     0.054703\n",
              "17             operations_skill     0.053160\n",
              "18                 entrep_skill     0.052140\n",
              "19     company_size_worked_past     0.050848"
            ]
          },
          "metadata": {
            "tags": []
          },
          "execution_count": 36
        }
      ]
    },
    {
      "cell_type": "code",
      "metadata": {
        "id": "BugL6qgL4N--",
        "colab_type": "code",
        "outputId": "90012ba6-aaa9-42f6-a133-8d64953c77f1",
        "colab": {
          "base_uri": "https://localhost:8080/",
          "height": 34
        }
      },
      "source": [
        "# Youden's index gives the most optimal threshold to maximize both recall and precision measures\n",
        "fpr,tpr,thresholds = roc_curve(y_test,y_test_hat2)\n",
        "optimal = np.argmax(tpr - fpr)\n",
        "optimal_threshold = thresholds[optimal]\n",
        "print(optimal_threshold)"
      ],
      "execution_count": 0,
      "outputs": [
        {
          "output_type": "stream",
          "text": [
            "0.5441317144982112\n"
          ],
          "name": "stdout"
        }
      ]
    },
    {
      "cell_type": "code",
      "metadata": {
        "id": "BvUyhXj2UtaZ",
        "colab_type": "code",
        "outputId": "dfa21d20-d485-41cd-f69c-042d6998c57b",
        "colab": {
          "base_uri": "https://localhost:8080/",
          "height": 110
        }
      },
      "source": [
        "logit3=LogisticRegression(class_weight=None, penalty='l2',C=0.005,random_state=42).fit(x_train,y_train)\n",
        "\n",
        "y_train_logit3 = logit3.predict(x_train)\n",
        "y_test_logit3 = logit3.predict(x_test) \n",
        "\n",
        "y_train_hat3 = (logit3.predict_proba(x_train)[:,1] >= 0.5441317144982112).astype(int)\n",
        "y_test_hat3 = (logit3.predict_proba(x_test)[:,1] >=0.5441317144982112).astype(int)\n",
        "\n",
        "results_summary=pd.DataFrame({\"Accuracy\":[accuracy_score(y_train,y_train_logit3)*100,accuracy_score(y_test,y_test_logit3)*100],\n",
        "                              \"ROC_AUC\":[roc_auc_score(y_train,y_train_hat3)*100,roc_auc_score(y_test,y_test_hat3)*100],\n",
        "                              \"Recall\":[recall_score(y_train, y_train_logit3)*100,recall_score(y_test, y_test_logit3)*100],\n",
        "                              \"Precision\":[precision_score(y_train, y_train_logit3)*100,precision_score(y_test, y_test_logit3)*100],\n",
        "                              \"f1_score\":[f1_score(y_train, y_train_logit3)*100,f1_score(y_test, y_test_logit3)*100]\n",
        "                              },\n",
        "                             index=[\"Training set\",\"Testing set\"])\n",
        "results_summary"
      ],
      "execution_count": 0,
      "outputs": [
        {
          "output_type": "execute_result",
          "data": {
            "text/html": [
              "<div>\n",
              "<style scoped>\n",
              "    .dataframe tbody tr th:only-of-type {\n",
              "        vertical-align: middle;\n",
              "    }\n",
              "\n",
              "    .dataframe tbody tr th {\n",
              "        vertical-align: top;\n",
              "    }\n",
              "\n",
              "    .dataframe thead th {\n",
              "        text-align: right;\n",
              "    }\n",
              "</style>\n",
              "<table border=\"1\" class=\"dataframe\">\n",
              "  <thead>\n",
              "    <tr style=\"text-align: right;\">\n",
              "      <th></th>\n",
              "      <th>Accuracy</th>\n",
              "      <th>ROC_AUC</th>\n",
              "      <th>Recall</th>\n",
              "      <th>Precision</th>\n",
              "      <th>f1_score</th>\n",
              "    </tr>\n",
              "  </thead>\n",
              "  <tbody>\n",
              "    <tr>\n",
              "      <th>Training set</th>\n",
              "      <td>89.389920</td>\n",
              "      <td>90.852835</td>\n",
              "      <td>97.942387</td>\n",
              "      <td>87.179487</td>\n",
              "      <td>92.248062</td>\n",
              "    </tr>\n",
              "    <tr>\n",
              "      <th>Testing set</th>\n",
              "      <td>76.842105</td>\n",
              "      <td>78.103617</td>\n",
              "      <td>82.258065</td>\n",
              "      <td>82.258065</td>\n",
              "      <td>82.258065</td>\n",
              "    </tr>\n",
              "  </tbody>\n",
              "</table>\n",
              "</div>"
            ],
            "text/plain": [
              "               Accuracy    ROC_AUC     Recall  Precision   f1_score\n",
              "Training set  89.389920  90.852835  97.942387  87.179487  92.248062\n",
              "Testing set   76.842105  78.103617  82.258065  82.258065  82.258065"
            ]
          },
          "metadata": {
            "tags": []
          },
          "execution_count": 38
        }
      ]
    },
    {
      "cell_type": "code",
      "metadata": {
        "id": "IUXnlQedLsOB",
        "colab_type": "code",
        "outputId": "429b0618-2008-453f-f3c9-ac9bb18b4879",
        "colab": {
          "base_uri": "https://localhost:8080/",
          "height": 281
        }
      },
      "source": [
        "lg_coefs = list(zip(x.columns, logit2.coef_[0]))\n",
        "lg_coefs_df = pd.DataFrame(lg_coefs)\n",
        "lg_top_coefs = [x for x in lg_coefs if np.abs(x[1]) > .07]\n",
        "lg_top_coefs = sorted(lg_top_coefs, key=(lambda x: x[1]), reverse=True)\n",
        "lg_top_coefs_df = pd.DataFrame(lg_top_coefs)\n",
        "\n",
        "\n",
        "plt.barh([x[0] for x in lg_top_coefs], width=[x[1] for x in lg_top_coefs])\n",
        "plt.title('LogOdds')\n",
        "plt.grid(b=False)\n",
        "sns.despine()"
      ],
      "execution_count": 0,
      "outputs": [
        {
          "output_type": "display_data",
          "data": {
            "image/png": "[encoded data removed]",
            "text/plain": [
              "<Figure size 432x288 with 1 Axes>"
            ]
          },
          "metadata": {
            "tags": [],
            "needs_background": "light"
          }
        }
      ]
    },
    {
      "cell_type": "code",
      "metadata": {
        "id": "zyaMirftKxNQ",
        "colab_type": "code",
        "colab": {}
      },
      "source": [
        "fpr_lg, tpr_lg, thresholds_lg = roc_curve(y_test,y_test_hat2)"
      ],
      "execution_count": 0,
      "outputs": []
    },
    {
      "cell_type": "markdown",
      "metadata": {
        "id": "HbiuHwqMd1G7",
        "colab_type": "text"
      },
      "source": [
        "## **Decision Tree**"
      ]
    },
    {
      "cell_type": "code",
      "metadata": {
        "id": "0ugP3klBbgMC",
        "colab_type": "code",
        "outputId": "b7ce9c74-abd5-4cf6-8e61-2f9b09af9bc7",
        "colab": {
          "base_uri": "https://localhost:8080/",
          "height": 110
        }
      },
      "source": [
        "tree = DecisionTreeClassifier(random_state=42).fit(x_train,y_train)\n",
        "\n",
        "y_train_tree = tree.predict(x_train)\n",
        "y_test_tree = tree.predict(x_test)\n",
        "\n",
        "tree_train_hat = tree.predict_proba(x_train)[:,1]\n",
        "tree_test_hat = tree.predict_proba(x_test)[:,1]\n",
        "\n",
        "results_summary=pd.DataFrame({\"Accuracy\":[accuracy_score(y_train,y_train_tree)*100,accuracy_score(y_test,y_test_tree)*100],\n",
        "                              \"ROC_AUC\":[roc_auc_score(y_train,tree_train_hat)*100,roc_auc_score(y_test,tree_test_hat)*100],\n",
        "                              \"Recall\":[recall_score(y_train, y_train_tree)*100,recall_score(y_test, y_test_tree)*100],\n",
        "                              \"Precision\":[precision_score(y_train, y_train_tree)*100,precision_score(y_test, y_test_tree)*100],\n",
        "                              \"f1_score\":[f1_score(y_train, y_train_tree)*100,f1_score(y_test, y_test_tree)*100]\n",
        "                              },\n",
        "                             index=[\"Training set\",\"Testing set\"])\n",
        "results_summary"
      ],
      "execution_count": 0,
      "outputs": [
        {
          "output_type": "execute_result",
          "data": {
            "text/html": [
              "<div>\n",
              "<style scoped>\n",
              "    .dataframe tbody tr th:only-of-type {\n",
              "        vertical-align: middle;\n",
              "    }\n",
              "\n",
              "    .dataframe tbody tr th {\n",
              "        vertical-align: top;\n",
              "    }\n",
              "\n",
              "    .dataframe thead th {\n",
              "        text-align: right;\n",
              "    }\n",
              "</style>\n",
              "<table border=\"1\" class=\"dataframe\">\n",
              "  <thead>\n",
              "    <tr style=\"text-align: right;\">\n",
              "      <th></th>\n",
              "      <th>Accuracy</th>\n",
              "      <th>ROC_AUC</th>\n",
              "      <th>Recall</th>\n",
              "      <th>Precision</th>\n",
              "      <th>f1_score</th>\n",
              "    </tr>\n",
              "  </thead>\n",
              "  <tbody>\n",
              "    <tr>\n",
              "      <th>Training set</th>\n",
              "      <td>100.000000</td>\n",
              "      <td>100.00000</td>\n",
              "      <td>100.000000</td>\n",
              "      <td>100.000000</td>\n",
              "      <td>100.000000</td>\n",
              "    </tr>\n",
              "    <tr>\n",
              "      <th>Testing set</th>\n",
              "      <td>86.315789</td>\n",
              "      <td>85.26393</td>\n",
              "      <td>88.709677</td>\n",
              "      <td>90.163934</td>\n",
              "      <td>89.430894</td>\n",
              "    </tr>\n",
              "  </tbody>\n",
              "</table>\n",
              "</div>"
            ],
            "text/plain": [
              "                Accuracy    ROC_AUC      Recall   Precision    f1_score\n",
              "Training set  100.000000  100.00000  100.000000  100.000000  100.000000\n",
              "Testing set    86.315789   85.26393   88.709677   90.163934   89.430894"
            ]
          },
          "metadata": {
            "tags": []
          },
          "execution_count": 41
        }
      ]
    },
    {
      "cell_type": "code",
      "metadata": {
        "id": "PBBU6w_7wHwr",
        "colab_type": "code",
        "outputId": "141dd1b8-1f29-4c41-8d51-b0fe5723bc9b",
        "colab": {
          "base_uri": "https://localhost:8080/",
          "height": 34
        }
      },
      "source": [
        "param_dt={\"max_depth\":range(1,20),\n",
        "          \"min_samples_leaf\":range(10,300,10),\n",
        "          \"class_weight\":[\"balanced\",None]        \n",
        "            }\n",
        "\n",
        "gs_dt=GridSearchCV(estimator=DecisionTreeClassifier(random_state=42), param_grid=param_dt,\n",
        "                  scoring=\"roc_auc\",cv=5).fit(x_train,y_train)\n",
        "\n",
        "gs_dt.best_params_"
      ],
      "execution_count": 0,
      "outputs": [
        {
          "output_type": "execute_result",
          "data": {
            "text/plain": [
              "{'class_weight': 'balanced', 'max_depth': 7, 'min_samples_leaf': 10}"
            ]
          },
          "metadata": {
            "tags": []
          },
          "execution_count": 42
        }
      ]
    },
    {
      "cell_type": "code",
      "metadata": {
        "id": "76NLYpfAuaqF",
        "colab_type": "code",
        "outputId": "faace3f7-ceb1-4b7d-a017-42e77e6ff112",
        "colab": {
          "base_uri": "https://localhost:8080/",
          "height": 110
        }
      },
      "source": [
        "tree2 = DecisionTreeClassifier(class_weight='balanced', max_depth=7, min_samples_leaf=10, random_state=42).fit(x_train,y_train)\n",
        "\n",
        "y_train_tree2 = tree2.predict(x_train)\n",
        "y_test_tree2 = tree2.predict(x_test)\n",
        "\n",
        "tree_train_hat2 = (tree2.predict_proba(x_train)[:,1] >=0.7).astype(int)\n",
        "tree_test_hat2 = (tree2.predict_proba(x_test)[:,1] >=0.7).astype(int)\n",
        "\n",
        "results_summary=pd.DataFrame({\"Accuracy\":[accuracy_score(y_train,y_train_tree2)*100,accuracy_score(y_test,y_test_tree2)*100],\n",
        "                              \"ROC_AUC\":[roc_auc_score(y_train,tree_train_hat2)*100,roc_auc_score(y_test,tree_test_hat2)*100],\n",
        "                              \"Recall\":[recall_score(y_train, y_train_tree2)*100,recall_score(y_test, y_test_tree2)*100],\n",
        "                              \"Precision\":[precision_score(y_train, y_train_tree2)*100,precision_score(y_test, y_test_tree2)*100],\n",
        "                              \"f1_score\":[f1_score(y_train, y_train_tree2)*100,f1_score(y_test, y_test_tree2)*100]\n",
        "                              },\n",
        "                             index=[\"Training set\",\"Testing set\"])\n",
        "results_summary"
      ],
      "execution_count": 0,
      "outputs": [
        {
          "output_type": "execute_result",
          "data": {
            "text/html": [
              "<div>\n",
              "<style scoped>\n",
              "    .dataframe tbody tr th:only-of-type {\n",
              "        vertical-align: middle;\n",
              "    }\n",
              "\n",
              "    .dataframe tbody tr th {\n",
              "        vertical-align: top;\n",
              "    }\n",
              "\n",
              "    .dataframe thead th {\n",
              "        text-align: right;\n",
              "    }\n",
              "</style>\n",
              "<table border=\"1\" class=\"dataframe\">\n",
              "  <thead>\n",
              "    <tr style=\"text-align: right;\">\n",
              "      <th></th>\n",
              "      <th>Accuracy</th>\n",
              "      <th>ROC_AUC</th>\n",
              "      <th>Recall</th>\n",
              "      <th>Precision</th>\n",
              "      <th>f1_score</th>\n",
              "    </tr>\n",
              "  </thead>\n",
              "  <tbody>\n",
              "    <tr>\n",
              "      <th>Training set</th>\n",
              "      <td>92.572944</td>\n",
              "      <td>91.846324</td>\n",
              "      <td>91.358025</td>\n",
              "      <td>96.943231</td>\n",
              "      <td>94.067797</td>\n",
              "    </tr>\n",
              "    <tr>\n",
              "      <th>Testing set</th>\n",
              "      <td>84.210526</td>\n",
              "      <td>81.744868</td>\n",
              "      <td>80.645161</td>\n",
              "      <td>94.339623</td>\n",
              "      <td>86.956522</td>\n",
              "    </tr>\n",
              "  </tbody>\n",
              "</table>\n",
              "</div>"
            ],
            "text/plain": [
              "               Accuracy    ROC_AUC     Recall  Precision   f1_score\n",
              "Training set  92.572944  91.846324  91.358025  96.943231  94.067797\n",
              "Testing set   84.210526  81.744868  80.645161  94.339623  86.956522"
            ]
          },
          "metadata": {
            "tags": []
          },
          "execution_count": 43
        }
      ]
    },
    {
      "cell_type": "code",
      "metadata": {
        "id": "FaEKbj7__6Hm",
        "colab_type": "code",
        "outputId": "c05a4ebc-a753-4039-de34-2e7d1e3f2b27",
        "colab": {
          "base_uri": "https://localhost:8080/",
          "height": 356
        }
      },
      "source": [
        "feature_importances_dt = pd.DataFrame({'Features': x_train.columns,'importance':tree2.feature_importances_,}).sort_values('importance', ascending=False)\n",
        "feature_importances_dt[0:10]"
      ],
      "execution_count": 0,
      "outputs": [
        {
          "output_type": "execute_result",
          "data": {
            "text/html": [
              "<div>\n",
              "<style scoped>\n",
              "    .dataframe tbody tr th:only-of-type {\n",
              "        vertical-align: middle;\n",
              "    }\n",
              "\n",
              "    .dataframe tbody tr th {\n",
              "        vertical-align: top;\n",
              "    }\n",
              "\n",
              "    .dataframe thead th {\n",
              "        text-align: right;\n",
              "    }\n",
              "</style>\n",
              "<table border=\"1\" class=\"dataframe\">\n",
              "  <thead>\n",
              "    <tr style=\"text-align: right;\">\n",
              "      <th></th>\n",
              "      <th>Features</th>\n",
              "      <th>importance</th>\n",
              "    </tr>\n",
              "  </thead>\n",
              "  <tbody>\n",
              "    <tr>\n",
              "      <th>66</th>\n",
              "      <td>selling_experience</td>\n",
              "      <td>0.326342</td>\n",
              "    </tr>\n",
              "    <tr>\n",
              "      <th>7</th>\n",
              "      <td>(emp_numbers_per_year,)</td>\n",
              "      <td>0.284556</td>\n",
              "    </tr>\n",
              "    <tr>\n",
              "      <th>86</th>\n",
              "      <td>recession_survival</td>\n",
              "      <td>0.134679</td>\n",
              "    </tr>\n",
              "    <tr>\n",
              "      <th>29</th>\n",
              "      <td>sales_support_material_numbers</td>\n",
              "      <td>0.086643</td>\n",
              "    </tr>\n",
              "    <tr>\n",
              "      <th>57</th>\n",
              "      <td>b2c_or_b2b</td>\n",
              "      <td>0.052593</td>\n",
              "    </tr>\n",
              "    <tr>\n",
              "      <th>39</th>\n",
              "      <td>structured_or_not</td>\n",
              "      <td>0.045220</td>\n",
              "    </tr>\n",
              "    <tr>\n",
              "      <th>71</th>\n",
              "      <td>pricing_strategy</td>\n",
              "      <td>0.027385</td>\n",
              "    </tr>\n",
              "    <tr>\n",
              "      <th>41</th>\n",
              "      <td>cloud_or_platform</td>\n",
              "      <td>0.024732</td>\n",
              "    </tr>\n",
              "    <tr>\n",
              "      <th>9</th>\n",
              "      <td>(avg_investment_time,)</td>\n",
              "      <td>0.014480</td>\n",
              "    </tr>\n",
              "    <tr>\n",
              "      <th>21</th>\n",
              "      <td>(finance_skill,)</td>\n",
              "      <td>0.002859</td>\n",
              "    </tr>\n",
              "  </tbody>\n",
              "</table>\n",
              "</div>"
            ],
            "text/plain": [
              "                          Features  importance\n",
              "66              selling_experience    0.326342\n",
              "7          (emp_numbers_per_year,)    0.284556\n",
              "86              recession_survival    0.134679\n",
              "29  sales_support_material_numbers    0.086643\n",
              "57                      b2c_or_b2b    0.052593\n",
              "39               structured_or_not    0.045220\n",
              "71                pricing_strategy    0.027385\n",
              "41               cloud_or_platform    0.024732\n",
              "9           (avg_investment_time,)    0.014480\n",
              "21                (finance_skill,)    0.002859"
            ]
          },
          "metadata": {
            "tags": []
          },
          "execution_count": 44
        }
      ]
    },
    {
      "cell_type": "code",
      "metadata": {
        "id": "9Mo5702KK7m9",
        "colab_type": "code",
        "colab": {}
      },
      "source": [
        "fpr_dt, tpr_dt, thresholds_dt = roc_curve(y_test,tree_test_hat)"
      ],
      "execution_count": 0,
      "outputs": []
    },
    {
      "cell_type": "markdown",
      "metadata": {
        "id": "bsls-ijt-chT",
        "colab_type": "text"
      },
      "source": [
        "## **Random Forest**"
      ]
    },
    {
      "cell_type": "code",
      "metadata": {
        "id": "-678oSeH-fzE",
        "colab_type": "code",
        "outputId": "d64e1c2b-3609-4343-e80d-a3655c5be817",
        "colab": {
          "base_uri": "https://localhost:8080/",
          "height": 110
        }
      },
      "source": [
        "rf=RandomForestClassifier(random_state=42).fit(x_train,y_train)\n",
        "\n",
        "y_train_rf = rf.predict(x_train)\n",
        "y_test_rf = rf.predict(x_test)\n",
        "\n",
        "rf_train_hat = rf.predict_proba(x_train)[:,1]\n",
        "rf_test_hat = rf.predict_proba(x_test)[:,1]\n",
        "\n",
        "results_summary=pd.DataFrame({\"Accuracy\":[accuracy_score(y_train,y_train_rf)*100,accuracy_score(y_test,y_test_rf)*100],\n",
        "                              \"ROC_AUC\":[roc_auc_score(y_train,rf_train_hat)*100,roc_auc_score(y_test,rf_test_hat)*100],\n",
        "                              \"Recall\":[recall_score(y_train, y_train_rf)*100,recall_score(y_test, y_test_rf)*100],\n",
        "                              \"Precision\":[precision_score(y_train, y_train_rf)*100,precision_score(y_test, y_test_rf)*100],\n",
        "                              \"f1_score\":[f1_score(y_train, y_train_rf)*100,f1_score(y_test, y_test_rf)*100]\n",
        "                              },\n",
        "                             index=[\"Training set\",\"Testing set\"])\n",
        "results_summary"
      ],
      "execution_count": 0,
      "outputs": [
        {
          "output_type": "execute_result",
          "data": {
            "text/html": [
              "<div>\n",
              "<style scoped>\n",
              "    .dataframe tbody tr th:only-of-type {\n",
              "        vertical-align: middle;\n",
              "    }\n",
              "\n",
              "    .dataframe tbody tr th {\n",
              "        vertical-align: top;\n",
              "    }\n",
              "\n",
              "    .dataframe thead th {\n",
              "        text-align: right;\n",
              "    }\n",
              "</style>\n",
              "<table border=\"1\" class=\"dataframe\">\n",
              "  <thead>\n",
              "    <tr style=\"text-align: right;\">\n",
              "      <th></th>\n",
              "      <th>Accuracy</th>\n",
              "      <th>ROC_AUC</th>\n",
              "      <th>Recall</th>\n",
              "      <th>Precision</th>\n",
              "      <th>f1_score</th>\n",
              "    </tr>\n",
              "  </thead>\n",
              "  <tbody>\n",
              "    <tr>\n",
              "      <th>Training set</th>\n",
              "      <td>100.000000</td>\n",
              "      <td>100.000000</td>\n",
              "      <td>100.000000</td>\n",
              "      <td>100.000000</td>\n",
              "      <td>100.000000</td>\n",
              "    </tr>\n",
              "    <tr>\n",
              "      <th>Testing set</th>\n",
              "      <td>90.526316</td>\n",
              "      <td>95.503421</td>\n",
              "      <td>91.935484</td>\n",
              "      <td>93.442623</td>\n",
              "      <td>92.682927</td>\n",
              "    </tr>\n",
              "  </tbody>\n",
              "</table>\n",
              "</div>"
            ],
            "text/plain": [
              "                Accuracy     ROC_AUC      Recall   Precision    f1_score\n",
              "Training set  100.000000  100.000000  100.000000  100.000000  100.000000\n",
              "Testing set    90.526316   95.503421   91.935484   93.442623   92.682927"
            ]
          },
          "metadata": {
            "tags": []
          },
          "execution_count": 46
        }
      ]
    },
    {
      "cell_type": "code",
      "metadata": {
        "id": "Uyi0UtEu-f2v",
        "colab_type": "code",
        "outputId": "3a52ef70-8f44-4b37-de99-b3a039a048a1",
        "colab": {
          "base_uri": "https://localhost:8080/",
          "height": 34
        }
      },
      "source": [
        "gs_rf = GridSearchCV(estimator=rf, param_grid=param_dt, scoring=\"roc_auc\", cv=3, n_jobs=-1).fit(x_train,y_train)\n",
        "\n",
        "gs_rf.best_params_"
      ],
      "execution_count": 0,
      "outputs": [
        {
          "output_type": "execute_result",
          "data": {
            "text/plain": [
              "{'class_weight': 'balanced', 'max_depth': 7, 'min_samples_leaf': 10}"
            ]
          },
          "metadata": {
            "tags": []
          },
          "execution_count": 47
        }
      ]
    },
    {
      "cell_type": "code",
      "metadata": {
        "id": "epgplLJF-f-1",
        "colab_type": "code",
        "outputId": "a3b6fa9c-0a2e-4219-ba73-7d0492b21026",
        "colab": {
          "base_uri": "https://localhost:8080/",
          "height": 110
        }
      },
      "source": [
        "rf2=RandomForestClassifier(class_weight='balanced', max_depth=7, min_samples_leaf=10, random_state=42).fit(x_train,y_train)\n",
        "\n",
        "y_train_rf2 = rf2.predict(x_train)\n",
        "y_test_rf2 = rf2.predict(x_test)\n",
        "\n",
        "rf_train_hat2 = rf2.predict_proba(x_train)[:,1]\n",
        "rf_test_hat2 = rf2.predict_proba(x_test)[:,1]\n",
        "\n",
        "results_summary=pd.DataFrame({\"Accuracy\":[accuracy_score(y_train,y_train_rf2)*100,accuracy_score(y_test,y_test_rf2)*100],\n",
        "                              \"ROC_AUC\":[roc_auc_score(y_train,rf_train_hat2)*100,roc_auc_score(y_test,rf_test_hat2)*100],\n",
        "                              \"Recall\":[recall_score(y_train, y_train_rf2)*100,recall_score(y_test, y_test_rf2)*100],\n",
        "                              \"Precision\":[precision_score(y_train, y_train_rf2)*100,precision_score(y_test, y_test_rf2)*100],\n",
        "                              \"f1_score\":[f1_score(y_train, y_train_rf2)*100,f1_score(y_test, y_test_rf2)*100]\n",
        "                              },\n",
        "                             index=[\"Training set\",\"Testing set\"])\n",
        "results_summary"
      ],
      "execution_count": 0,
      "outputs": [
        {
          "output_type": "execute_result",
          "data": {
            "text/html": [
              "<div>\n",
              "<style scoped>\n",
              "    .dataframe tbody tr th:only-of-type {\n",
              "        vertical-align: middle;\n",
              "    }\n",
              "\n",
              "    .dataframe tbody tr th {\n",
              "        vertical-align: top;\n",
              "    }\n",
              "\n",
              "    .dataframe thead th {\n",
              "        text-align: right;\n",
              "    }\n",
              "</style>\n",
              "<table border=\"1\" class=\"dataframe\">\n",
              "  <thead>\n",
              "    <tr style=\"text-align: right;\">\n",
              "      <th></th>\n",
              "      <th>Accuracy</th>\n",
              "      <th>ROC_AUC</th>\n",
              "      <th>Recall</th>\n",
              "      <th>Precision</th>\n",
              "      <th>f1_score</th>\n",
              "    </tr>\n",
              "  </thead>\n",
              "  <tbody>\n",
              "    <tr>\n",
              "      <th>Training set</th>\n",
              "      <td>94.429708</td>\n",
              "      <td>98.894417</td>\n",
              "      <td>95.061728</td>\n",
              "      <td>96.250000</td>\n",
              "      <td>95.652174</td>\n",
              "    </tr>\n",
              "    <tr>\n",
              "      <th>Testing set</th>\n",
              "      <td>82.105263</td>\n",
              "      <td>94.672532</td>\n",
              "      <td>80.645161</td>\n",
              "      <td>90.909091</td>\n",
              "      <td>85.470085</td>\n",
              "    </tr>\n",
              "  </tbody>\n",
              "</table>\n",
              "</div>"
            ],
            "text/plain": [
              "               Accuracy    ROC_AUC     Recall  Precision   f1_score\n",
              "Training set  94.429708  98.894417  95.061728  96.250000  95.652174\n",
              "Testing set   82.105263  94.672532  80.645161  90.909091  85.470085"
            ]
          },
          "metadata": {
            "tags": []
          },
          "execution_count": 48
        }
      ]
    },
    {
      "cell_type": "code",
      "metadata": {
        "id": "_R_vShvc-gN-",
        "colab_type": "code",
        "outputId": "fc6c0dfe-5d8d-4fab-98d3-8ab60312c7d2",
        "colab": {
          "base_uri": "https://localhost:8080/",
          "height": 662
        }
      },
      "source": [
        "feature_importances_rf = pd.DataFrame({'Features': x_train.columns,'importance': rf2.feature_importances_}).sort_values('importance', ascending=False)\n",
        "feature_importances_rf\n",
        "\n",
        "feature_importances_rf[0:20]"
      ],
      "execution_count": 0,
      "outputs": [
        {
          "output_type": "execute_result",
          "data": {
            "text/html": [
              "<div>\n",
              "<style scoped>\n",
              "    .dataframe tbody tr th:only-of-type {\n",
              "        vertical-align: middle;\n",
              "    }\n",
              "\n",
              "    .dataframe tbody tr th {\n",
              "        vertical-align: top;\n",
              "    }\n",
              "\n",
              "    .dataframe thead th {\n",
              "        text-align: right;\n",
              "    }\n",
              "</style>\n",
              "<table border=\"1\" class=\"dataframe\">\n",
              "  <thead>\n",
              "    <tr style=\"text-align: right;\">\n",
              "      <th></th>\n",
              "      <th>Features</th>\n",
              "      <th>importance</th>\n",
              "    </tr>\n",
              "  </thead>\n",
              "  <tbody>\n",
              "    <tr>\n",
              "      <th>67</th>\n",
              "      <td>management_sim</td>\n",
              "      <td>0.085920</td>\n",
              "    </tr>\n",
              "    <tr>\n",
              "      <th>66</th>\n",
              "      <td>selling_experience</td>\n",
              "      <td>0.074245</td>\n",
              "    </tr>\n",
              "    <tr>\n",
              "      <th>39</th>\n",
              "      <td>structured_or_not</td>\n",
              "      <td>0.064020</td>\n",
              "    </tr>\n",
              "    <tr>\n",
              "      <th>0</th>\n",
              "      <td>(age,)</td>\n",
              "      <td>0.060996</td>\n",
              "    </tr>\n",
              "    <tr>\n",
              "      <th>70</th>\n",
              "      <td>diff_obtaining_workforce</td>\n",
              "      <td>0.056910</td>\n",
              "    </tr>\n",
              "    <tr>\n",
              "      <th>52</th>\n",
              "      <td>big_data</td>\n",
              "      <td>0.051214</td>\n",
              "    </tr>\n",
              "    <tr>\n",
              "      <th>82</th>\n",
              "      <td>prof_analyse_unstruc_data</td>\n",
              "      <td>0.043717</td>\n",
              "    </tr>\n",
              "    <tr>\n",
              "      <th>24</th>\n",
              "      <td>(fortune_experience_mean,)</td>\n",
              "      <td>0.032606</td>\n",
              "    </tr>\n",
              "    <tr>\n",
              "      <th>7</th>\n",
              "      <td>(emp_numbers_per_year,)</td>\n",
              "      <td>0.030650</td>\n",
              "    </tr>\n",
              "    <tr>\n",
              "      <th>15</th>\n",
              "      <td>(ds_skill,)</td>\n",
              "      <td>0.026471</td>\n",
              "    </tr>\n",
              "    <tr>\n",
              "      <th>29</th>\n",
              "      <td>sales_support_material_numbers</td>\n",
              "      <td>0.023877</td>\n",
              "    </tr>\n",
              "    <tr>\n",
              "      <th>36</th>\n",
              "      <td>catering_verticals</td>\n",
              "      <td>0.023868</td>\n",
              "    </tr>\n",
              "    <tr>\n",
              "      <th>57</th>\n",
              "      <td>b2c_or_b2b</td>\n",
              "      <td>0.020866</td>\n",
              "    </tr>\n",
              "    <tr>\n",
              "      <th>9</th>\n",
              "      <td>(avg_investment_time,)</td>\n",
              "      <td>0.020783</td>\n",
              "    </tr>\n",
              "    <tr>\n",
              "      <th>68</th>\n",
              "      <td>research_pub_numbers</td>\n",
              "      <td>0.019893</td>\n",
              "    </tr>\n",
              "    <tr>\n",
              "      <th>37</th>\n",
              "      <td>private_or_public</td>\n",
              "      <td>0.019017</td>\n",
              "    </tr>\n",
              "    <tr>\n",
              "      <th>45</th>\n",
              "      <td>partner_numbers</td>\n",
              "      <td>0.018490</td>\n",
              "    </tr>\n",
              "    <tr>\n",
              "      <th>6</th>\n",
              "      <td>(direct_comp_numbers,)</td>\n",
              "      <td>0.017671</td>\n",
              "    </tr>\n",
              "    <tr>\n",
              "      <th>41</th>\n",
              "      <td>cloud_or_platform</td>\n",
              "      <td>0.016994</td>\n",
              "    </tr>\n",
              "    <tr>\n",
              "      <th>42</th>\n",
              "      <td>local_or_global</td>\n",
              "      <td>0.016124</td>\n",
              "    </tr>\n",
              "  </tbody>\n",
              "</table>\n",
              "</div>"
            ],
            "text/plain": [
              "                          Features  importance\n",
              "67                  management_sim    0.085920\n",
              "66              selling_experience    0.074245\n",
              "39               structured_or_not    0.064020\n",
              "0                           (age,)    0.060996\n",
              "70        diff_obtaining_workforce    0.056910\n",
              "52                        big_data    0.051214\n",
              "82       prof_analyse_unstruc_data    0.043717\n",
              "24      (fortune_experience_mean,)    0.032606\n",
              "7          (emp_numbers_per_year,)    0.030650\n",
              "15                     (ds_skill,)    0.026471\n",
              "29  sales_support_material_numbers    0.023877\n",
              "36              catering_verticals    0.023868\n",
              "57                      b2c_or_b2b    0.020866\n",
              "9           (avg_investment_time,)    0.020783\n",
              "68            research_pub_numbers    0.019893\n",
              "37               private_or_public    0.019017\n",
              "45                 partner_numbers    0.018490\n",
              "6           (direct_comp_numbers,)    0.017671\n",
              "41               cloud_or_platform    0.016994\n",
              "42                 local_or_global    0.016124"
            ]
          },
          "metadata": {
            "tags": []
          },
          "execution_count": 49
        }
      ]
    },
    {
      "cell_type": "code",
      "metadata": {
        "id": "hIWOCFs0LFgv",
        "colab_type": "code",
        "colab": {}
      },
      "source": [
        "fpr_rf, tpr_rf, thresholds_rf = roc_curve(y_test,rf_test_hat2)"
      ],
      "execution_count": 0,
      "outputs": []
    },
    {
      "cell_type": "markdown",
      "metadata": {
        "id": "dNTSxLWvPGU2",
        "colab_type": "text"
      },
      "source": [
        "## **Naive Bayes**"
      ]
    },
    {
      "cell_type": "code",
      "metadata": {
        "id": "j3_cOxIEPKej",
        "colab_type": "code",
        "outputId": "065ed396-7521-42fa-d2b6-9dba3ca58269",
        "colab": {
          "base_uri": "https://localhost:8080/",
          "height": 110
        }
      },
      "source": [
        "nb = BernoulliNB().fit(x_train, y_train)\n",
        "\n",
        "y_train_nb = nb.predict(x_train)\n",
        "y_test_nb = nb.predict(x_test)\n",
        "\n",
        "nb_train_hat = nb.predict_proba(x_train)[:,1]\n",
        "nb_test_hat = nb.predict_proba(x_test)[:,1]\n",
        "\n",
        "results_summary=pd.DataFrame({\"Accuracy\":[accuracy_score(y_train,y_train_nb)*100,accuracy_score(y_test,y_test_nb)*100],\n",
        "                              \"ROC_AUC\":[roc_auc_score(y_train,nb_train_hat)*100,roc_auc_score(y_test,nb_test_hat)*100],\n",
        "                              \"Recall\":[recall_score(y_train, y_train_nb)*100,recall_score(y_test, y_test_nb)*100],\n",
        "                              \"Precision\":[precision_score(y_train, y_train_nb)*100,precision_score(y_test, y_test_nb)*100],\n",
        "                              \"f1_score\":[f1_score(y_train, y_train_nb)*100,f1_score(y_test, y_test_nb)*100]\n",
        "                              },\n",
        "                             index=[\"Training set\",\"Testing set\"])\n",
        "results_summary"
      ],
      "execution_count": 0,
      "outputs": [
        {
          "output_type": "execute_result",
          "data": {
            "text/html": [
              "<div>\n",
              "<style scoped>\n",
              "    .dataframe tbody tr th:only-of-type {\n",
              "        vertical-align: middle;\n",
              "    }\n",
              "\n",
              "    .dataframe tbody tr th {\n",
              "        vertical-align: top;\n",
              "    }\n",
              "\n",
              "    .dataframe thead th {\n",
              "        text-align: right;\n",
              "    }\n",
              "</style>\n",
              "<table border=\"1\" class=\"dataframe\">\n",
              "  <thead>\n",
              "    <tr style=\"text-align: right;\">\n",
              "      <th></th>\n",
              "      <th>Accuracy</th>\n",
              "      <th>ROC_AUC</th>\n",
              "      <th>Recall</th>\n",
              "      <th>Precision</th>\n",
              "      <th>f1_score</th>\n",
              "    </tr>\n",
              "  </thead>\n",
              "  <tbody>\n",
              "    <tr>\n",
              "      <th>Training set</th>\n",
              "      <td>88.859416</td>\n",
              "      <td>94.644064</td>\n",
              "      <td>90.946502</td>\n",
              "      <td>91.701245</td>\n",
              "      <td>91.322314</td>\n",
              "    </tr>\n",
              "    <tr>\n",
              "      <th>Testing set</th>\n",
              "      <td>82.105263</td>\n",
              "      <td>93.401760</td>\n",
              "      <td>80.645161</td>\n",
              "      <td>90.909091</td>\n",
              "      <td>85.470085</td>\n",
              "    </tr>\n",
              "  </tbody>\n",
              "</table>\n",
              "</div>"
            ],
            "text/plain": [
              "               Accuracy    ROC_AUC     Recall  Precision   f1_score\n",
              "Training set  88.859416  94.644064  90.946502  91.701245  91.322314\n",
              "Testing set   82.105263  93.401760  80.645161  90.909091  85.470085"
            ]
          },
          "metadata": {
            "tags": []
          },
          "execution_count": 51
        }
      ]
    },
    {
      "cell_type": "code",
      "metadata": {
        "id": "cEZ19PqERxlH",
        "colab_type": "code",
        "colab": {}
      },
      "source": [
        "fpr_nb, tpr_nb, thresholds_nb = roc_curve(y_test,nb_test_hat)"
      ],
      "execution_count": 0,
      "outputs": []
    },
    {
      "cell_type": "markdown",
      "metadata": {
        "id": "zC5VdA8BP-6j",
        "colab_type": "text"
      },
      "source": [
        "## **Support Vector Machines**"
      ]
    },
    {
      "cell_type": "code",
      "metadata": {
        "id": "Ucdcm0jGQCJj",
        "colab_type": "code",
        "outputId": "0ba9920b-0e4a-4626-f7f6-02403aed6847",
        "colab": {
          "base_uri": "https://localhost:8080/",
          "height": 110
        }
      },
      "source": [
        "svm = svm.SVC(kernel=\"linear\", probability=True).fit(x_train,y_train)\n",
        "\n",
        "y_train_svm = svm.predict(x_train)\n",
        "y_test_svm = svm.predict(x_test)\n",
        "\n",
        "svm_train_hat = svm.predict_proba(x_train)[:,1]\n",
        "svm_test_hat = svm.predict_proba(x_test)[:,1]\n",
        "\n",
        "results_summary=pd.DataFrame({\"Accuracy\":[accuracy_score(y_train,y_train_svm)*100,accuracy_score(y_test,y_test_svm)*100],\n",
        "                              \"ROC_AUC\":[roc_auc_score(y_train,svm_train_hat)*100,roc_auc_score(y_test,svm_test_hat)*100],\n",
        "                              \"Recall\":[recall_score(y_train, y_train_svm)*100,recall_score(y_test, y_test_svm)*100],\n",
        "                              \"Precision\":[precision_score(y_train, y_train_svm)*100,precision_score(y_test, y_test_svm)*100],\n",
        "                              \"f1_score\":[f1_score(y_train, y_train_svm)*100,f1_score(y_test, y_test_svm)*100]\n",
        "                              },\n",
        "                             index=[\"Training set\",\"Testing set\"])\n",
        "results_summary"
      ],
      "execution_count": 0,
      "outputs": [
        {
          "output_type": "execute_result",
          "data": {
            "text/html": [
              "<div>\n",
              "<style scoped>\n",
              "    .dataframe tbody tr th:only-of-type {\n",
              "        vertical-align: middle;\n",
              "    }\n",
              "\n",
              "    .dataframe tbody tr th {\n",
              "        vertical-align: top;\n",
              "    }\n",
              "\n",
              "    .dataframe thead th {\n",
              "        text-align: right;\n",
              "    }\n",
              "</style>\n",
              "<table border=\"1\" class=\"dataframe\">\n",
              "  <thead>\n",
              "    <tr style=\"text-align: right;\">\n",
              "      <th></th>\n",
              "      <th>Accuracy</th>\n",
              "      <th>ROC_AUC</th>\n",
              "      <th>Recall</th>\n",
              "      <th>Precision</th>\n",
              "      <th>f1_score</th>\n",
              "    </tr>\n",
              "  </thead>\n",
              "  <tbody>\n",
              "    <tr>\n",
              "      <th>Training set</th>\n",
              "      <td>99.734748</td>\n",
              "      <td>100.000000</td>\n",
              "      <td>100.000000</td>\n",
              "      <td>99.590164</td>\n",
              "      <td>99.794661</td>\n",
              "    </tr>\n",
              "    <tr>\n",
              "      <th>Testing set</th>\n",
              "      <td>74.736842</td>\n",
              "      <td>82.942326</td>\n",
              "      <td>74.193548</td>\n",
              "      <td>85.185185</td>\n",
              "      <td>79.310345</td>\n",
              "    </tr>\n",
              "  </tbody>\n",
              "</table>\n",
              "</div>"
            ],
            "text/plain": [
              "               Accuracy     ROC_AUC      Recall  Precision   f1_score\n",
              "Training set  99.734748  100.000000  100.000000  99.590164  99.794661\n",
              "Testing set   74.736842   82.942326   74.193548  85.185185  79.310345"
            ]
          },
          "metadata": {
            "tags": []
          },
          "execution_count": 53
        }
      ]
    },
    {
      "cell_type": "code",
      "metadata": {
        "id": "yNiU_U-YR3R6",
        "colab_type": "code",
        "colab": {}
      },
      "source": [
        "fpr_svm, tpr_svm, thresholds_svm = roc_curve(y_test,svm_test_hat)"
      ],
      "execution_count": 0,
      "outputs": []
    },
    {
      "cell_type": "markdown",
      "metadata": {
        "id": "620ZpGRjQVw-",
        "colab_type": "text"
      },
      "source": [
        "## **XGBoost**"
      ]
    },
    {
      "cell_type": "code",
      "metadata": {
        "id": "cPj2GXyAQaEM",
        "colab_type": "code",
        "outputId": "a9ed618d-467f-4ecc-ef19-79dc9cb2ad54",
        "colab": {
          "base_uri": "https://localhost:8080/",
          "height": 110
        }
      },
      "source": [
        "xgb = XGBClassifier().fit(x_train,y_train)\n",
        "\n",
        "y_train_xgb = xgb.predict(x_train)\n",
        "y_test_xgb = xgb.predict(x_test)\n",
        "\n",
        "xgb_train_hat = xgb.predict_proba(x_train)[:,1]\n",
        "xgb_test_hat = xgb.predict_proba(x_test)[:,1]\n",
        "\n",
        "results_summary=pd.DataFrame({\"Accuracy\":[accuracy_score(y_train,y_train_xgb)*100,accuracy_score(y_test,y_test_xgb)*100],\n",
        "                              \"ROC_AUC\":[roc_auc_score(y_train,xgb_train_hat)*100,roc_auc_score(y_test,xgb_test_hat)*100],\n",
        "                              \"Recall\":[recall_score(y_train, y_train_xgb)*100,recall_score(y_test, y_test_xgb)*100],\n",
        "                              \"Precision\":[precision_score(y_train, y_train_xgb)*100,precision_score(y_test, y_test_xgb)*100],\n",
        "                              \"f1_score\":[f1_score(y_train, y_train_xgb)*100,f1_score(y_test, y_test_xgb)*100]\n",
        "                              },\n",
        "                             index=[\"Training set\",\"Testing set\"])\n",
        "results_summary"
      ],
      "execution_count": 0,
      "outputs": [
        {
          "output_type": "execute_result",
          "data": {
            "text/html": [
              "<div>\n",
              "<style scoped>\n",
              "    .dataframe tbody tr th:only-of-type {\n",
              "        vertical-align: middle;\n",
              "    }\n",
              "\n",
              "    .dataframe tbody tr th {\n",
              "        vertical-align: top;\n",
              "    }\n",
              "\n",
              "    .dataframe thead th {\n",
              "        text-align: right;\n",
              "    }\n",
              "</style>\n",
              "<table border=\"1\" class=\"dataframe\">\n",
              "  <thead>\n",
              "    <tr style=\"text-align: right;\">\n",
              "      <th></th>\n",
              "      <th>Accuracy</th>\n",
              "      <th>ROC_AUC</th>\n",
              "      <th>Recall</th>\n",
              "      <th>Precision</th>\n",
              "      <th>f1_score</th>\n",
              "    </tr>\n",
              "  </thead>\n",
              "  <tbody>\n",
              "    <tr>\n",
              "      <th>Training set</th>\n",
              "      <td>99.734748</td>\n",
              "      <td>100.000000</td>\n",
              "      <td>99.588477</td>\n",
              "      <td>100.000000</td>\n",
              "      <td>99.793814</td>\n",
              "    </tr>\n",
              "    <tr>\n",
              "      <th>Testing set</th>\n",
              "      <td>87.368421</td>\n",
              "      <td>93.059629</td>\n",
              "      <td>88.709677</td>\n",
              "      <td>91.666667</td>\n",
              "      <td>90.163934</td>\n",
              "    </tr>\n",
              "  </tbody>\n",
              "</table>\n",
              "</div>"
            ],
            "text/plain": [
              "               Accuracy     ROC_AUC     Recall   Precision   f1_score\n",
              "Training set  99.734748  100.000000  99.588477  100.000000  99.793814\n",
              "Testing set   87.368421   93.059629  88.709677   91.666667  90.163934"
            ]
          },
          "metadata": {
            "tags": []
          },
          "execution_count": 56
        }
      ]
    },
    {
      "cell_type": "code",
      "metadata": {
        "id": "RDeZEjk-SOLN",
        "colab_type": "code",
        "colab": {}
      },
      "source": [
        "fpr_xgb, tpr_xgb, thresholds_xgb = roc_curve(y_test,xgb_test_hat)"
      ],
      "execution_count": 0,
      "outputs": []
    },
    {
      "cell_type": "markdown",
      "metadata": {
        "id": "vYJajYJ0LGYf",
        "colab_type": "text"
      },
      "source": [
        "## **Model Comparisons**"
      ]
    },
    {
      "cell_type": "code",
      "metadata": {
        "id": "T4l-cql1-gMA",
        "colab_type": "code",
        "outputId": "51d2a771-f4a5-46e7-c7d0-78fa5a42fc6d",
        "colab": {
          "base_uri": "https://localhost:8080/",
          "height": 329
        }
      },
      "source": [
        "print(\"Mean 10-fold ROC_AUC score for Tuned LOGIT\",np.mean(cross_val_score(estimator=logit2,X=x,y=y,cv=StratifiedKFold(n_splits=10,shuffle=True,random_state=42), scoring=\"roc_auc\",n_jobs=-1))*100)\n",
        "print(\"Mean 10-fold ROC_AUC score for Tuned DT\",np.mean(cross_val_score(estimator=tree2,X=x,y=y,cv=StratifiedKFold(n_splits=10,shuffle=True,random_state=42), scoring=\"roc_auc\",n_jobs=-1))*100)\n",
        "print(\"Mean 10-fold ROC_AUC score for Tuned RF\",np.mean(cross_val_score(estimator=rf2,X=x,y=y,cv=StratifiedKFold(n_splits=10,shuffle=True,random_state=42), scoring=\"roc_auc\", n_jobs=-1))*100)\n",
        "print(\"Mean 10-fold ROC_AUC score for Tuned XGBoost\",np.mean(cross_val_score(estimator=xgb,X=x,y=y,cv=StratifiedKFold(n_splits=10,shuffle=True,random_state=42), scoring=\"roc_auc\",n_jobs=-1))*100)\n",
        "print(\"Mean 10-fold ROC_AUC score for Tuned SVM\",np.mean(cross_val_score(estimator=svm,X=x,y=y,cv=StratifiedKFold(n_splits=10,shuffle=True,random_state=42), scoring=\"roc_auc\",n_jobs=-1))*100)\n",
        "print(\"Mean 10-fold ROC_AUC score for Tuned NB\",np.mean(cross_val_score(estimator=nb,X=x,y=y,cv=StratifiedKFold(n_splits=10,shuffle=True,random_state=42), scoring=\"roc_auc\",n_jobs=-1))*100)\n",
        "print(\"Mean 10-fold RECALL score for Tuned LOGIT\",np.mean(cross_val_score(estimator=logit2,X=x,y=y,cv=StratifiedKFold(n_splits=10,shuffle=True, random_state=42), scoring=\"recall\",n_jobs=-1))*100)\n",
        "print(\"Mean 19-fold RECALL score for Tuned DT\",np.mean(cross_val_score(estimator=tree2,X=x,y=y,cv=StratifiedKFold(n_splits=10,shuffle=True,random_state=42), scoring=\"recall\",n_jobs=-1))*100)\n",
        "print(\"Mean 10-fold RECALL score for Tuned RF\",np.mean(cross_val_score(estimator=rf2,X=x,y=y,cv=StratifiedKFold(n_splits=10,shuffle=True,random_state=42), scoring=\"recall\",n_jobs=-1))*100)\n",
        "print(\"Mean 10-fold RECALL score for Tuned XGBoost\",np.mean(cross_val_score(estimator=xgb,X=x,y=y,cv=StratifiedKFold(n_splits=10,shuffle=True,random_state=42), scoring=\"recall\",n_jobs=-1))*100)\n",
        "print(\"Mean 10-fold RECALL score for Tuned SVM\",np.mean(cross_val_score(estimator=svm,X=x,y=y,cv=StratifiedKFold(n_splits=10,shuffle=True,random_state=42), scoring=\"recall\",n_jobs=-1))*100)\n",
        "print(\"Mean 10-fold RECALL score for Tuned NB\",np.mean(cross_val_score(estimator=nb,X=x,y=y,cv=StratifiedKFold(n_splits=10,shuffle=True,random_state=42), scoring=\"recall\",n_jobs=-1))*100)\n",
        "print(\"Mean 10-fold PRECISION score for Tuned LOGIT\",np.mean(cross_val_score(estimator=logit2,X=x,y=y,cv=StratifiedKFold(n_splits=10,shuffle=True,random_state=42), scoring=\"precision\",n_jobs=-1))*100)\n",
        "print(\"Mean 10-fold PRECISION score for Tuned DT\",np.mean(cross_val_score(estimator=tree2,X=x,y=y,cv=StratifiedKFold(n_splits=10,shuffle=True,random_state=42), scoring=\"precision\",n_jobs=-1))*100)\n",
        "print(\"Mean 10-fold PRECISION score for Tuned RF\",np.mean(cross_val_score(estimator=rf2,X=x,y=y,cv=StratifiedKFold(n_splits=10,shuffle=True,random_state=42), scoring=\"precision\",n_jobs=-1))*100)\n",
        "print(\"Mean 10-fold PRECISION score for Tuned XGBoost\",np.mean(cross_val_score(estimator=xgb,X=x,y=y,cv=StratifiedKFold(n_splits=10,shuffle=True,random_state=42), scoring=\"precision\",n_jobs=-1))*100)\n",
        "print(\"Mean 10-fold PRECISION score for Tuned SVM\",np.mean(cross_val_score(estimator=svm,X=x,y=y,cv=StratifiedKFold(n_splits=10,shuffle=True,random_state=42), scoring=\"precision\",n_jobs=-1))*100)\n",
        "print(\"Mean 10-fold PRECISION score for Tuned NB\",np.mean(cross_val_score(estimator=nb,X=x,y=y,cv=StratifiedKFold(n_splits=10,shuffle=True,random_state=42), scoring=\"precision\",n_jobs=-1))*100)"
      ],
      "execution_count": 0,
      "outputs": [
        {
          "output_type": "stream",
          "text": [
            "Mean 10-fold ROC_AUC score for Tuned LOGIT 91.96030993042378\n",
            "Mean 10-fold ROC_AUC score for Tuned DT 88.20339184060721\n",
            "Mean 10-fold ROC_AUC score for Tuned RF 95.31854838709677\n",
            "Mean 10-fold ROC_AUC score for Tuned XGBoost 95.37310246679317\n",
            "Mean 10-fold ROC_AUC score for Tuned SVM 92.67868437697659\n",
            "Mean 10-fold ROC_AUC score for Tuned NB 92.82708728652752\n",
            "Mean 10-fold RECALL score for Tuned LOGIT 93.74193548387098\n",
            "Mean 19-fold RECALL score for Tuned DT 83.9247311827957\n",
            "Mean 10-fold RECALL score for Tuned RF 94.0752688172043\n",
            "Mean 10-fold RECALL score for Tuned XGBoost 94.0752688172043\n",
            "Mean 10-fold RECALL score for Tuned SVM 87.80645161290322\n",
            "Mean 10-fold RECALL score for Tuned NB 87.87096774193547\n",
            "Mean 10-fold PRECISION score for Tuned LOGIT 85.10192258721669\n",
            "Mean 10-fold PRECISION score for Tuned DT 89.92679437366343\n",
            "Mean 10-fold PRECISION score for Tuned RF 88.79012603625736\n",
            "Mean 10-fold PRECISION score for Tuned XGBoost 90.36061392568622\n",
            "Mean 10-fold PRECISION score for Tuned SVM 91.52930555622436\n",
            "Mean 10-fold PRECISION score for Tuned NB 90.13265900765902\n"
          ],
          "name": "stdout"
        }
      ]
    },
    {
      "cell_type": "code",
      "metadata": {
        "id": "xwH50OfYHjoq",
        "colab_type": "code",
        "outputId": "6fbe4590-be10-4d4d-c4d5-5a0a233c102f",
        "colab": {
          "base_uri": "https://localhost:8080/",
          "height": 294
        }
      },
      "source": [
        "plt.plot(fpr_lg, tpr_lg, lw=1, label='Logistic Regression')\n",
        "plt.plot(fpr_dt, tpr_dt, lw=1, label='Decision Tree')\n",
        "plt.plot(fpr_rf, tpr_rf, lw=1, label='Random Forest')\n",
        "plt.plot(fpr_svm, tpr_svm, lw=1, label='SVM - Linear')\n",
        "plt.plot(fpr_xgb, tpr_xgb, lw=1, label='XGBoost')\n",
        "plt.plot(fpr_nb, tpr_nb, lw=1, label='NB')\n",
        "\n",
        "plt.plot([0, 1], [0, 1], c='violet', ls='--')\n",
        "plt.xlim([-0.05, 1.05])\n",
        "plt.ylim([-0.05, 1.05])\n",
        "\n",
        "plt.xlabel('False positive rate')\n",
        "plt.ylabel('True positive rate')\n",
        "plt.title('Model Comparison - ROC curve')\n",
        "plt.legend(ncol=2, fontsize='small')\n",
        "plt.savefig(\"Model_Comparison.jpg\")\n",
        "files.download(\"Model_Comparison.jpg\")\n",
        "sns.despine()"
      ],
      "execution_count": 0,
      "outputs": [
        {
          "output_type": "display_data",
          "data": {
            "image/png": "[encoded data removed]",
            "text/plain": [
              "<Figure size 432x288 with 1 Axes>"
            ]
          },
          "metadata": {
            "tags": [],
            "needs_background": "light"
          }
        }
      ]
    }
  ]
}